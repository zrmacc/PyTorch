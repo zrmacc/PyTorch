{
  "nbformat": 4,
  "nbformat_minor": 0,
  "metadata": {
    "colab": {
      "provenance": []
    },
    "kernelspec": {
      "name": "python3",
      "display_name": "Python 3"
    },
    "language_info": {
      "name": "python"
    }
  },
  "cells": [
    {
      "cell_type": "code",
      "execution_count": 1,
      "metadata": {
        "colab": {
          "base_uri": "https://localhost:8080/"
        },
        "id": "YtcI-kEVHw8b",
        "outputId": "baf8e1cc-1c5a-4906-81fb-364d33766adf"
      },
      "outputs": [
        {
          "output_type": "stream",
          "name": "stdout",
          "text": [
            "2.3.0+cu121\n"
          ]
        }
      ],
      "source": [
        "import torch\n",
        "import pandas as pd\n",
        "import numpy as np\n",
        "import matplotlib.pyplot as plt\n",
        "print(torch.__version__)"
      ]
    },
    {
      "cell_type": "markdown",
      "source": [
        "* Documentation for [pytorch](https://pytorch.org/).\n",
        "* Pytorch [course](https://www.learnpytorch.io/)."
      ],
      "metadata": {
        "id": "tFgRCt-ZJBN3"
      }
    },
    {
      "cell_type": "markdown",
      "source": [
        "## Basics"
      ],
      "metadata": {
        "id": "4Q4wdVNoMUh_"
      }
    },
    {
      "cell_type": "markdown",
      "source": [
        "### Uniform random values"
      ],
      "metadata": {
        "id": "iAef35T1O3ng"
      }
    },
    {
      "cell_type": "markdown",
      "source": [
        "Random uniform values [`torch.rand`](https://pytorch.org/docs/stable/generated/torch.rand.html)."
      ],
      "metadata": {
        "id": "h8nQ5sJwOe6z"
      }
    },
    {
      "cell_type": "code",
      "source": [
        "# Random weights.\n",
        "x = torch.rand(3, 3)\n",
        "print(x)"
      ],
      "metadata": {
        "colab": {
          "base_uri": "https://localhost:8080/"
        },
        "id": "CMRveuKQOBqV",
        "outputId": "c38a126e-0451-42a8-f668-5c327d6e1230"
      },
      "execution_count": 2,
      "outputs": [
        {
          "output_type": "stream",
          "name": "stdout",
          "text": [
            "tensor([[0.9738, 0.6288, 0.2334],\n",
            "        [0.1176, 0.4930, 0.9220],\n",
            "        [0.0585, 0.4581, 0.2332]])\n"
          ]
        }
      ]
    },
    {
      "cell_type": "markdown",
      "source": [
        "### Zeros and ones"
      ],
      "metadata": {
        "id": "yayH9h8jO7Ro"
      }
    },
    {
      "cell_type": "code",
      "source": [
        "x = torch.zeros((4, 4))\n",
        "x.fill_diagonal_(1)\n",
        "print(x)"
      ],
      "metadata": {
        "colab": {
          "base_uri": "https://localhost:8080/"
        },
        "id": "8dzPY_DPORNW",
        "outputId": "8dbdc683-1e85-4ad1-b985-bc59ec739a5d"
      },
      "execution_count": 3,
      "outputs": [
        {
          "output_type": "stream",
          "name": "stdout",
          "text": [
            "tensor([[1., 0., 0., 0.],\n",
            "        [0., 1., 0., 0.],\n",
            "        [0., 0., 1., 0.],\n",
            "        [0., 0., 0., 1.]])\n"
          ]
        }
      ]
    },
    {
      "cell_type": "code",
      "source": [
        "y = torch.eye(4)\n",
        "assert torch.equal(x, y)"
      ],
      "metadata": {
        "id": "MjP9to2hPAhu"
      },
      "execution_count": 4,
      "outputs": []
    },
    {
      "cell_type": "markdown",
      "source": [
        "### Sequences\n",
        "\n",
        "Range of values [`torch.arange`](https://pytorch.org/docs/stable/generated/torch.arange.html)."
      ],
      "metadata": {
        "id": "00w2yPsiP2IA"
      }
    },
    {
      "cell_type": "code",
      "source": [
        "x = torch.arange(1, 4)\n",
        "print(x)"
      ],
      "metadata": {
        "colab": {
          "base_uri": "https://localhost:8080/"
        },
        "id": "CEQRXK3PP5MK",
        "outputId": "43ab9cab-900a-4023-d94c-08a74838d8b2"
      },
      "execution_count": 5,
      "outputs": [
        {
          "output_type": "stream",
          "name": "stdout",
          "text": [
            "tensor([1, 2, 3])\n"
          ]
        }
      ]
    },
    {
      "cell_type": "markdown",
      "source": [
        "### Attributes"
      ],
      "metadata": {
        "id": "17vVJROwQqlb"
      }
    },
    {
      "cell_type": "code",
      "source": [
        "# Data type.\n",
        "x = torch.rand((2, 2))\n",
        "x.dtype"
      ],
      "metadata": {
        "colab": {
          "base_uri": "https://localhost:8080/"
        },
        "id": "Oq96Wo9_P7Nq",
        "outputId": "afebcd3d-6e41-4e12-ad32-cca693ec09dd"
      },
      "execution_count": 6,
      "outputs": [
        {
          "output_type": "execute_result",
          "data": {
            "text/plain": [
              "torch.float32"
            ]
          },
          "metadata": {},
          "execution_count": 6
        }
      ]
    },
    {
      "cell_type": "code",
      "source": [
        "# Shape.\n",
        "x.shape"
      ],
      "metadata": {
        "colab": {
          "base_uri": "https://localhost:8080/"
        },
        "id": "HtoTBro0Qu1B",
        "outputId": "caa6708c-fe06-47c6-cf25-4d7523ca4b6a"
      },
      "execution_count": 7,
      "outputs": [
        {
          "output_type": "execute_result",
          "data": {
            "text/plain": [
              "torch.Size([2, 2])"
            ]
          },
          "metadata": {},
          "execution_count": 7
        }
      ]
    },
    {
      "cell_type": "code",
      "source": [
        "# Device.\n",
        "x.device"
      ],
      "metadata": {
        "colab": {
          "base_uri": "https://localhost:8080/"
        },
        "id": "1Rol3oT3RAbu",
        "outputId": "8a28eaa9-51d6-4ee2-b0d6-909d3e3c22dd"
      },
      "execution_count": 8,
      "outputs": [
        {
          "output_type": "execute_result",
          "data": {
            "text/plain": [
              "device(type='cpu')"
            ]
          },
          "metadata": {},
          "execution_count": 8
        }
      ]
    },
    {
      "cell_type": "markdown",
      "source": [
        "### Functions\n",
        "\n",
        "* [Mathematical operations](https://pytorch.org/docs/stable/torch.html#math-operations)"
      ],
      "metadata": {
        "id": "q65lBTBSAsWf"
      }
    },
    {
      "cell_type": "code",
      "source": [
        "# Instantiate an empty tensor and fill with independent normal draws.\n",
        "x = torch.empty((3, 3))\n",
        "x.normal_()"
      ],
      "metadata": {
        "colab": {
          "base_uri": "https://localhost:8080/"
        },
        "id": "M1B9dvTvDuCE",
        "outputId": "306032ac-9194-4b23-c150-54cb1f3abab4"
      },
      "execution_count": 9,
      "outputs": [
        {
          "output_type": "execute_result",
          "data": {
            "text/plain": [
              "tensor([[ 0.0957, -0.9350,  0.8415],\n",
              "        [ 0.7698,  1.2430, -1.2957],\n",
              "        [ 0.4824, -0.0120, -1.1334]])"
            ]
          },
          "metadata": {},
          "execution_count": 9
        }
      ]
    },
    {
      "cell_type": "code",
      "source": [
        "# Directly create a tensor with random normal draws.\n",
        "x = torch.randn((3, 3))\n",
        "print(x)"
      ],
      "metadata": {
        "id": "kZYHi5mxRB51",
        "colab": {
          "base_uri": "https://localhost:8080/"
        },
        "outputId": "8f313f95-d116-45de-e66a-7c4dd5936842"
      },
      "execution_count": 10,
      "outputs": [
        {
          "output_type": "stream",
          "name": "stdout",
          "text": [
            "tensor([[ 0.6492,  1.5073,  0.4936],\n",
            "        [ 0.7511, -1.0347, -1.9939],\n",
            "        [-0.0589,  1.6477,  0.9796]])\n"
          ]
        }
      ]
    },
    {
      "cell_type": "code",
      "source": [
        "# Indicator matrix.\n",
        "x.heaviside(torch.tensor(0.0))"
      ],
      "metadata": {
        "colab": {
          "base_uri": "https://localhost:8080/"
        },
        "id": "cN-RI4AQD7PB",
        "outputId": "86003ea9-6f2b-488a-8698-91fdbcca92fd"
      },
      "execution_count": 11,
      "outputs": [
        {
          "output_type": "execute_result",
          "data": {
            "text/plain": [
              "tensor([[1., 1., 1.],\n",
              "        [1., 0., 0.],\n",
              "        [0., 1., 1.]])"
            ]
          },
          "metadata": {},
          "execution_count": 11
        }
      ]
    },
    {
      "cell_type": "code",
      "source": [
        "# Matrix multiplication.\n",
        "xtx = x.t() @ x"
      ],
      "metadata": {
        "id": "tBeqxuMFDVyI"
      },
      "execution_count": 12,
      "outputs": []
    },
    {
      "cell_type": "code",
      "source": [
        "# SVD.\n",
        "u, s, v = xtx.svd()\n",
        "y = u @ torch.diag(s) @ v.t()\n",
        "assert torch.allclose(xtx, y)"
      ],
      "metadata": {
        "id": "ZxJn4ux-Aocy"
      },
      "execution_count": 13,
      "outputs": []
    },
    {
      "cell_type": "code",
      "source": [
        "# Minimum and maximum.\n",
        "x = torch.randn((3, 3))\n",
        "xmin = x.min()\n",
        "xmax = x.max()"
      ],
      "metadata": {
        "id": "5EhPrbc7Cvnu"
      },
      "execution_count": 14,
      "outputs": []
    },
    {
      "cell_type": "code",
      "source": [
        "# Sum and product.\n",
        "xsum = x.sum()\n",
        "xprd = x.prod()"
      ],
      "metadata": {
        "id": "eWv51n4fFHfP"
      },
      "execution_count": 15,
      "outputs": []
    },
    {
      "cell_type": "code",
      "source": [
        "# Flatten.\n",
        "x = torch.rand((3, 3, 3))\n",
        "assert torch.equal(x.flatten(), x.view(-1))"
      ],
      "metadata": {
        "id": "jBxt4jtRH2dL"
      },
      "execution_count": 16,
      "outputs": []
    },
    {
      "cell_type": "code",
      "source": [
        "# Argmin and argmax.\n",
        "imin = x.argmin()\n",
        "assert x.view(-1)[imin] == x.min()\n",
        "\n",
        "imax = x.argmax()\n",
        "assert x.view(-1)[imax] == x.max()"
      ],
      "metadata": {
        "id": "0ql8C0zxFPvF"
      },
      "execution_count": 17,
      "outputs": []
    },
    {
      "cell_type": "markdown",
      "source": [
        "### Combining tensors.\n",
        "\n",
        "* [Concatenate](https://pytorch.org/docs/stable/generated/torch.cat.html).\n",
        "* [Stack](https://pytorch.org/docs/stable/generated/torch.stack.html)."
      ],
      "metadata": {
        "id": "s36G3pN-IVFL"
      }
    },
    {
      "cell_type": "code",
      "source": [
        "x = torch.zeros((3, 2))\n",
        "y = torch.ones((3, 2))"
      ],
      "metadata": {
        "id": "qmp5gPc5FkdJ"
      },
      "execution_count": 18,
      "outputs": []
    },
    {
      "cell_type": "code",
      "source": [
        "# Concatenate horizontally.\n",
        "z1 = torch.hstack((x, y))\n",
        "print(z1)\n",
        "z2 = torch.cat((x, y), dim=1)\n",
        "assert torch.equal(z1, z2)"
      ],
      "metadata": {
        "colab": {
          "base_uri": "https://localhost:8080/"
        },
        "id": "B4MKQPDdIa5e",
        "outputId": "94bf9293-98aa-4b7d-d614-f6e9fd2cea56"
      },
      "execution_count": 19,
      "outputs": [
        {
          "output_type": "stream",
          "name": "stdout",
          "text": [
            "tensor([[0., 0., 1., 1.],\n",
            "        [0., 0., 1., 1.],\n",
            "        [0., 0., 1., 1.]])\n"
          ]
        }
      ]
    },
    {
      "cell_type": "code",
      "source": [
        "# Concatenate vertically.\n",
        "z1 = torch.vstack((x, y))\n",
        "print(z1)\n",
        "z2 = torch.cat((x, y), dim=0)\n",
        "assert torch.equal(z1, z2)"
      ],
      "metadata": {
        "colab": {
          "base_uri": "https://localhost:8080/"
        },
        "id": "lDwLTx1zIg7j",
        "outputId": "0ea076bc-765e-49ce-f42d-f3bb8de04362"
      },
      "execution_count": 20,
      "outputs": [
        {
          "output_type": "stream",
          "name": "stdout",
          "text": [
            "tensor([[0., 0.],\n",
            "        [0., 0.],\n",
            "        [0., 0.],\n",
            "        [1., 1.],\n",
            "        [1., 1.],\n",
            "        [1., 1.]])\n"
          ]
        }
      ]
    },
    {
      "cell_type": "code",
      "source": [
        "# Stack along the channel dimension.\n",
        "# Cannot use concatenate here.\n",
        "z = torch.stack((x, y), dim=2)\n",
        "z.shape\n",
        "assert torch.equal(\n",
        "  torch.stack((x, y), dim=2),\n",
        "  torch.stack((x, y), dim=-1)\n",
        ")"
      ],
      "metadata": {
        "id": "Adf7IyPcIqWJ"
      },
      "execution_count": 21,
      "outputs": []
    },
    {
      "cell_type": "markdown",
      "source": [
        "### Reshaping\n",
        "* [Reshaping](https://pytorch.org/docs/stable/generated/torch.reshape.html) will return a view if possible, and a copy if not.\n",
        "* [Viewing](https://pytorch.org/docs/stable/generated/torch.Tensor.view.html) will raise an error if the new shape is not compatible with the original shape."
      ],
      "metadata": {
        "id": "SF4VG-h1LA0M"
      }
    },
    {
      "cell_type": "code",
      "source": [
        "x = torch.arange(1, 13)\n",
        "x1 = x.reshape((12, 1))\n",
        "x2 = x.reshape((6, 2))\n",
        "x3 = x.reshape((4, 3))"
      ],
      "metadata": {
        "id": "2d-pxDS8KryI"
      },
      "execution_count": 22,
      "outputs": []
    },
    {
      "cell_type": "code",
      "source": [
        "# Adding dimensions.\n",
        "x = torch.arange(1, 4)\n",
        "x = x.unsqueeze(dim=-1)\n",
        "print(x.shape)"
      ],
      "metadata": {
        "colab": {
          "base_uri": "https://localhost:8080/"
        },
        "id": "ilr2PsNMMN6h",
        "outputId": "ef60070f-6e31-4098-9e4f-b7032b18294b"
      },
      "execution_count": 23,
      "outputs": [
        {
          "output_type": "stream",
          "name": "stdout",
          "text": [
            "torch.Size([3, 1])\n"
          ]
        }
      ]
    },
    {
      "cell_type": "code",
      "source": [
        "x = x.squeeze()\n",
        "x = x.unsqueeze(dim=0)\n",
        "print(x.shape)"
      ],
      "metadata": {
        "colab": {
          "base_uri": "https://localhost:8080/"
        },
        "id": "5WDbMoz7Nbq2",
        "outputId": "20201054-e96d-4ddf-d95c-4ab940afaf33"
      },
      "execution_count": 24,
      "outputs": [
        {
          "output_type": "stream",
          "name": "stdout",
          "text": [
            "torch.Size([1, 3])\n"
          ]
        }
      ]
    },
    {
      "cell_type": "code",
      "source": [],
      "metadata": {
        "id": "gvvf0bsFNcEN"
      },
      "execution_count": 24,
      "outputs": []
    }
  ]
}