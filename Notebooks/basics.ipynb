{
  "nbformat": 4,
  "nbformat_minor": 0,
  "metadata": {
    "colab": {
      "provenance": [],
      "toc_visible": true,
      "gpuType": "T4"
    },
    "kernelspec": {
      "name": "python3",
      "display_name": "Python 3"
    },
    "language_info": {
      "name": "python"
    },
    "accelerator": "GPU"
  },
  "cells": [
    {
      "cell_type": "code",
      "execution_count": null,
      "metadata": {
        "colab": {
          "base_uri": "https://localhost:8080/"
        },
        "id": "YtcI-kEVHw8b",
        "outputId": "34769cc0-6a5d-4332-d0c9-e6e03bebc953"
      },
      "outputs": [
        {
          "output_type": "stream",
          "name": "stdout",
          "text": [
            "2.3.0+cu121\n"
          ]
        }
      ],
      "source": [
        "import torch\n",
        "import pandas as pd\n",
        "import numpy as np\n",
        "import matplotlib.pyplot as plt\n",
        "print(torch.__version__)"
      ]
    },
    {
      "cell_type": "markdown",
      "source": [
        "* Documentation for [pytorch](https://pytorch.org/).\n",
        "* Pytorch [course](https://www.learnpytorch.io/)."
      ],
      "metadata": {
        "id": "tFgRCt-ZJBN3"
      }
    },
    {
      "cell_type": "markdown",
      "source": [
        "## Basics\n",
        "\n",
        "* [Tensor](https://pytorch.org/docs/stable/tensors.html) documentation."
      ],
      "metadata": {
        "id": "4Q4wdVNoMUh_"
      }
    },
    {
      "cell_type": "markdown",
      "source": [
        "### Uniform random values"
      ],
      "metadata": {
        "id": "iAef35T1O3ng"
      }
    },
    {
      "cell_type": "markdown",
      "source": [
        "* Random uniform values: [rand](https://pytorch.org/docs/stable/generated/torch.rand.html)."
      ],
      "metadata": {
        "id": "h8nQ5sJwOe6z"
      }
    },
    {
      "cell_type": "code",
      "source": [
        "# Random weights.\n",
        "x = torch.rand(3, 3)\n",
        "print(x)"
      ],
      "metadata": {
        "colab": {
          "base_uri": "https://localhost:8080/"
        },
        "id": "CMRveuKQOBqV",
        "outputId": "c38a126e-0451-42a8-f668-5c327d6e1230"
      },
      "execution_count": null,
      "outputs": [
        {
          "output_type": "stream",
          "name": "stdout",
          "text": [
            "tensor([[0.9738, 0.6288, 0.2334],\n",
            "        [0.1176, 0.4930, 0.9220],\n",
            "        [0.0585, 0.4581, 0.2332]])\n"
          ]
        }
      ]
    },
    {
      "cell_type": "code",
      "source": [
        "# Set seed.\n",
        "torch.manual_seed(101)\n",
        "x = torch.rand(3, 3)\n",
        "\n",
        "torch.manual_seed(101)\n",
        "y = torch.rand(3, 3)\n",
        "\n",
        "assert torch.equal(x, y)"
      ],
      "metadata": {
        "id": "7EPIKmAE5iBp"
      },
      "execution_count": null,
      "outputs": []
    },
    {
      "cell_type": "markdown",
      "source": [
        "### Zeros and ones"
      ],
      "metadata": {
        "id": "yayH9h8jO7Ro"
      }
    },
    {
      "cell_type": "code",
      "source": [
        "x = torch.zeros((4, 4))\n",
        "x.fill_diagonal_(1)\n",
        "print(x)"
      ],
      "metadata": {
        "colab": {
          "base_uri": "https://localhost:8080/"
        },
        "id": "8dzPY_DPORNW",
        "outputId": "8dbdc683-1e85-4ad1-b985-bc59ec739a5d"
      },
      "execution_count": null,
      "outputs": [
        {
          "output_type": "stream",
          "name": "stdout",
          "text": [
            "tensor([[1., 0., 0., 0.],\n",
            "        [0., 1., 0., 0.],\n",
            "        [0., 0., 1., 0.],\n",
            "        [0., 0., 0., 1.]])\n"
          ]
        }
      ]
    },
    {
      "cell_type": "code",
      "source": [
        "y = torch.eye(4)\n",
        "assert torch.equal(x, y)"
      ],
      "metadata": {
        "id": "MjP9to2hPAhu"
      },
      "execution_count": null,
      "outputs": []
    },
    {
      "cell_type": "markdown",
      "source": [
        "### Sequences\n",
        "\n",
        "* Range of values [arange](https://pytorch.org/docs/stable/generated/torch.arange.html)."
      ],
      "metadata": {
        "id": "00w2yPsiP2IA"
      }
    },
    {
      "cell_type": "code",
      "source": [
        "x = torch.arange(1, 4)\n",
        "print(x)"
      ],
      "metadata": {
        "colab": {
          "base_uri": "https://localhost:8080/"
        },
        "id": "CEQRXK3PP5MK",
        "outputId": "43ab9cab-900a-4023-d94c-08a74838d8b2"
      },
      "execution_count": null,
      "outputs": [
        {
          "output_type": "stream",
          "name": "stdout",
          "text": [
            "tensor([1, 2, 3])\n"
          ]
        }
      ]
    },
    {
      "cell_type": "markdown",
      "source": [
        "### Attributes"
      ],
      "metadata": {
        "id": "17vVJROwQqlb"
      }
    },
    {
      "cell_type": "code",
      "source": [
        "# Data type.\n",
        "x = torch.rand((2, 2))\n",
        "x.dtype"
      ],
      "metadata": {
        "colab": {
          "base_uri": "https://localhost:8080/"
        },
        "id": "Oq96Wo9_P7Nq",
        "outputId": "afebcd3d-6e41-4e12-ad32-cca693ec09dd"
      },
      "execution_count": null,
      "outputs": [
        {
          "output_type": "execute_result",
          "data": {
            "text/plain": [
              "torch.float32"
            ]
          },
          "metadata": {},
          "execution_count": 6
        }
      ]
    },
    {
      "cell_type": "code",
      "source": [
        "# Shape.\n",
        "x.shape"
      ],
      "metadata": {
        "colab": {
          "base_uri": "https://localhost:8080/"
        },
        "id": "HtoTBro0Qu1B",
        "outputId": "caa6708c-fe06-47c6-cf25-4d7523ca4b6a"
      },
      "execution_count": null,
      "outputs": [
        {
          "output_type": "execute_result",
          "data": {
            "text/plain": [
              "torch.Size([2, 2])"
            ]
          },
          "metadata": {},
          "execution_count": 7
        }
      ]
    },
    {
      "cell_type": "code",
      "source": [
        "# Device.\n",
        "x.device"
      ],
      "metadata": {
        "colab": {
          "base_uri": "https://localhost:8080/"
        },
        "id": "1Rol3oT3RAbu",
        "outputId": "8a28eaa9-51d6-4ee2-b0d6-909d3e3c22dd"
      },
      "execution_count": null,
      "outputs": [
        {
          "output_type": "execute_result",
          "data": {
            "text/plain": [
              "device(type='cpu')"
            ]
          },
          "metadata": {},
          "execution_count": 8
        }
      ]
    },
    {
      "cell_type": "markdown",
      "source": [
        "### Functions\n",
        "\n",
        "* [Mathematical operations](https://pytorch.org/docs/stable/torch.html#math-operations)."
      ],
      "metadata": {
        "id": "q65lBTBSAsWf"
      }
    },
    {
      "cell_type": "code",
      "source": [
        "# Instantiate an empty tensor and fill with independent normal draws.\n",
        "x = torch.empty((3, 3))\n",
        "x.normal_()"
      ],
      "metadata": {
        "colab": {
          "base_uri": "https://localhost:8080/"
        },
        "id": "M1B9dvTvDuCE",
        "outputId": "306032ac-9194-4b23-c150-54cb1f3abab4"
      },
      "execution_count": null,
      "outputs": [
        {
          "output_type": "execute_result",
          "data": {
            "text/plain": [
              "tensor([[ 0.0957, -0.9350,  0.8415],\n",
              "        [ 0.7698,  1.2430, -1.2957],\n",
              "        [ 0.4824, -0.0120, -1.1334]])"
            ]
          },
          "metadata": {},
          "execution_count": 9
        }
      ]
    },
    {
      "cell_type": "code",
      "source": [
        "# Directly create a tensor with random normal draws.\n",
        "x = torch.randn((3, 3))\n",
        "print(x)"
      ],
      "metadata": {
        "id": "kZYHi5mxRB51",
        "colab": {
          "base_uri": "https://localhost:8080/"
        },
        "outputId": "8f313f95-d116-45de-e66a-7c4dd5936842"
      },
      "execution_count": null,
      "outputs": [
        {
          "output_type": "stream",
          "name": "stdout",
          "text": [
            "tensor([[ 0.6492,  1.5073,  0.4936],\n",
            "        [ 0.7511, -1.0347, -1.9939],\n",
            "        [-0.0589,  1.6477,  0.9796]])\n"
          ]
        }
      ]
    },
    {
      "cell_type": "code",
      "source": [
        "# Indicator matrix.\n",
        "x.heaviside(torch.tensor(0.0))"
      ],
      "metadata": {
        "colab": {
          "base_uri": "https://localhost:8080/"
        },
        "id": "cN-RI4AQD7PB",
        "outputId": "86003ea9-6f2b-488a-8698-91fdbcca92fd"
      },
      "execution_count": null,
      "outputs": [
        {
          "output_type": "execute_result",
          "data": {
            "text/plain": [
              "tensor([[1., 1., 1.],\n",
              "        [1., 0., 0.],\n",
              "        [0., 1., 1.]])"
            ]
          },
          "metadata": {},
          "execution_count": 11
        }
      ]
    },
    {
      "cell_type": "code",
      "source": [
        "# Matrix multiplication.\n",
        "xtx = x.t() @ x"
      ],
      "metadata": {
        "id": "tBeqxuMFDVyI"
      },
      "execution_count": null,
      "outputs": []
    },
    {
      "cell_type": "code",
      "source": [
        "# SVD.\n",
        "u, s, v = xtx.svd()\n",
        "y = u @ torch.diag(s) @ v.t()\n",
        "assert torch.allclose(xtx, y)"
      ],
      "metadata": {
        "id": "ZxJn4ux-Aocy"
      },
      "execution_count": null,
      "outputs": []
    },
    {
      "cell_type": "code",
      "source": [
        "# Minimum and maximum.\n",
        "x = torch.randn((3, 3))\n",
        "xmin = x.min()\n",
        "xmax = x.max()"
      ],
      "metadata": {
        "id": "5EhPrbc7Cvnu"
      },
      "execution_count": null,
      "outputs": []
    },
    {
      "cell_type": "code",
      "source": [
        "# Sum and product.\n",
        "xsum = x.sum()\n",
        "xprd = x.prod()"
      ],
      "metadata": {
        "id": "eWv51n4fFHfP"
      },
      "execution_count": null,
      "outputs": []
    },
    {
      "cell_type": "code",
      "source": [
        "# Flatten.\n",
        "x = torch.rand((3, 3, 3))\n",
        "assert torch.equal(x.flatten(), x.view(-1))"
      ],
      "metadata": {
        "id": "jBxt4jtRH2dL"
      },
      "execution_count": null,
      "outputs": []
    },
    {
      "cell_type": "code",
      "source": [
        "# Argmin and argmax.\n",
        "imin = x.argmin()\n",
        "assert x.view(-1)[imin] == x.min()\n",
        "\n",
        "imax = x.argmax()\n",
        "assert x.view(-1)[imax] == x.max()"
      ],
      "metadata": {
        "id": "0ql8C0zxFPvF"
      },
      "execution_count": null,
      "outputs": []
    },
    {
      "cell_type": "markdown",
      "source": [
        "### Combining tensors.\n",
        "\n",
        "* [Concatenate](https://pytorch.org/docs/stable/generated/torch.cat.html).\n",
        "* [Stack](https://pytorch.org/docs/stable/generated/torch.stack.html)."
      ],
      "metadata": {
        "id": "s36G3pN-IVFL"
      }
    },
    {
      "cell_type": "code",
      "source": [
        "x = torch.zeros((3, 2))\n",
        "y = torch.ones((3, 2))"
      ],
      "metadata": {
        "id": "qmp5gPc5FkdJ"
      },
      "execution_count": null,
      "outputs": []
    },
    {
      "cell_type": "code",
      "source": [
        "# Concatenate horizontally.\n",
        "z1 = torch.hstack((x, y))\n",
        "print(z1)\n",
        "z2 = torch.cat((x, y), dim=1)\n",
        "assert torch.equal(z1, z2)"
      ],
      "metadata": {
        "colab": {
          "base_uri": "https://localhost:8080/"
        },
        "id": "B4MKQPDdIa5e",
        "outputId": "94bf9293-98aa-4b7d-d614-f6e9fd2cea56"
      },
      "execution_count": null,
      "outputs": [
        {
          "output_type": "stream",
          "name": "stdout",
          "text": [
            "tensor([[0., 0., 1., 1.],\n",
            "        [0., 0., 1., 1.],\n",
            "        [0., 0., 1., 1.]])\n"
          ]
        }
      ]
    },
    {
      "cell_type": "code",
      "source": [
        "# Concatenate vertically.\n",
        "z1 = torch.vstack((x, y))\n",
        "print(z1)\n",
        "z2 = torch.cat((x, y), dim=0)\n",
        "assert torch.equal(z1, z2)"
      ],
      "metadata": {
        "colab": {
          "base_uri": "https://localhost:8080/"
        },
        "id": "lDwLTx1zIg7j",
        "outputId": "0ea076bc-765e-49ce-f42d-f3bb8de04362"
      },
      "execution_count": null,
      "outputs": [
        {
          "output_type": "stream",
          "name": "stdout",
          "text": [
            "tensor([[0., 0.],\n",
            "        [0., 0.],\n",
            "        [0., 0.],\n",
            "        [1., 1.],\n",
            "        [1., 1.],\n",
            "        [1., 1.]])\n"
          ]
        }
      ]
    },
    {
      "cell_type": "code",
      "source": [
        "# Stack along the channel dimension.\n",
        "# Cannot use concatenate here.\n",
        "z = torch.stack((x, y), dim=2)\n",
        "z.shape\n",
        "assert torch.equal(\n",
        "  torch.stack((x, y), dim=2),\n",
        "  torch.stack((x, y), dim=-1)\n",
        ")"
      ],
      "metadata": {
        "id": "Adf7IyPcIqWJ"
      },
      "execution_count": null,
      "outputs": []
    },
    {
      "cell_type": "markdown",
      "source": [
        "### Reshaping\n",
        "* [Reshaping](https://pytorch.org/docs/stable/generated/torch.reshape.html) will return a view if possible, and a copy if not.\n",
        "* [Viewing](https://pytorch.org/docs/stable/generated/torch.Tensor.view.html) will raise an error if the new shape is not compatible with the original shape."
      ],
      "metadata": {
        "id": "SF4VG-h1LA0M"
      }
    },
    {
      "cell_type": "code",
      "source": [
        "x = torch.arange(1, 13)\n",
        "x1 = x.reshape((12, 1))\n",
        "x2 = x.reshape((6, 2))\n",
        "x3 = x.reshape((4, 3))"
      ],
      "metadata": {
        "id": "2d-pxDS8KryI"
      },
      "execution_count": null,
      "outputs": []
    },
    {
      "cell_type": "code",
      "source": [
        "# Adding dimensions.\n",
        "x = torch.arange(1, 4)\n",
        "x = x.unsqueeze(dim=-1)\n",
        "print(x.shape)"
      ],
      "metadata": {
        "colab": {
          "base_uri": "https://localhost:8080/"
        },
        "id": "ilr2PsNMMN6h",
        "outputId": "20e3d85f-5852-434d-9df2-a0858776acc0"
      },
      "execution_count": null,
      "outputs": [
        {
          "output_type": "stream",
          "name": "stdout",
          "text": [
            "torch.Size([3, 1])\n"
          ]
        }
      ]
    },
    {
      "cell_type": "code",
      "source": [
        "# Permuting dimensions.\n",
        "x = torch.zeros((4, 4, 3))\n",
        "xt = x.permute((2, 0, 1))\n",
        "print(xt.shape)"
      ],
      "metadata": {
        "colab": {
          "base_uri": "https://localhost:8080/"
        },
        "id": "hwJS_SCh1v0E",
        "outputId": "4f69f9aa-1fc9-4112-c1d8-5f4cf8c5538b"
      },
      "execution_count": null,
      "outputs": [
        {
          "output_type": "stream",
          "name": "stdout",
          "text": [
            "torch.Size([3, 4, 4])\n"
          ]
        }
      ]
    },
    {
      "cell_type": "code",
      "source": [
        "# Permutations are *views* of the original tensor.\n",
        "x[0, 0, 0] = 1.0\n",
        "print(xt[0, 0, 0])"
      ],
      "metadata": {
        "colab": {
          "base_uri": "https://localhost:8080/"
        },
        "id": "WNZkNboi2Q_E",
        "outputId": "e643f288-891b-40d4-81d5-c02cf0ccc3ac"
      },
      "execution_count": null,
      "outputs": [
        {
          "output_type": "stream",
          "name": "stdout",
          "text": [
            "tensor(1.)\n"
          ]
        }
      ]
    },
    {
      "cell_type": "markdown",
      "source": [
        "### Slicing"
      ],
      "metadata": {
        "id": "31eDLmNZ3PT8"
      }
    },
    {
      "cell_type": "code",
      "source": [
        "x = torch.arange(1, 10)\n",
        "x = x.reshape(3, 3)\n",
        "print(x)"
      ],
      "metadata": {
        "colab": {
          "base_uri": "https://localhost:8080/"
        },
        "id": "-7TEREqt2j8h",
        "outputId": "be4077df-8476-4de9-95b5-396abbdc24f1"
      },
      "execution_count": null,
      "outputs": [
        {
          "output_type": "stream",
          "name": "stdout",
          "text": [
            "tensor([[1, 2, 3],\n",
            "        [4, 5, 6],\n",
            "        [7, 8, 9]])\n"
          ]
        }
      ]
    },
    {
      "cell_type": "code",
      "source": [
        "# First row.\n",
        "x[0, :]"
      ],
      "metadata": {
        "colab": {
          "base_uri": "https://localhost:8080/"
        },
        "id": "1tTKjb3F3Tc4",
        "outputId": "fb42b7d6-e150-4d78-acd5-dafe4fe1e1d5"
      },
      "execution_count": null,
      "outputs": [
        {
          "output_type": "execute_result",
          "data": {
            "text/plain": [
              "tensor([1, 2, 3])"
            ]
          },
          "metadata": {},
          "execution_count": 22
        }
      ]
    },
    {
      "cell_type": "code",
      "source": [
        "# First column.\n",
        "x[:, 0]"
      ],
      "metadata": {
        "colab": {
          "base_uri": "https://localhost:8080/"
        },
        "id": "-P-aaHsh3VsQ",
        "outputId": "0a105014-b88f-4221-cb52-7e0bda76284d"
      },
      "execution_count": null,
      "outputs": [
        {
          "output_type": "execute_result",
          "data": {
            "text/plain": [
              "tensor([1, 4, 7])"
            ]
          },
          "metadata": {},
          "execution_count": 23
        }
      ]
    },
    {
      "cell_type": "markdown",
      "source": [
        "### NumPy conversion"
      ],
      "metadata": {
        "id": "LYUkd0Lo4LdM"
      }
    },
    {
      "cell_type": "code",
      "source": [
        "x = np.arange(1, 9)\n",
        "y = torch.from_numpy(x)\n",
        "z = torch.arange(1, 9)\n",
        "torch.equal(y, z)"
      ],
      "metadata": {
        "colab": {
          "base_uri": "https://localhost:8080/"
        },
        "id": "QOpqW8mH3XTw",
        "outputId": "473a1533-2460-4f6b-cc31-7a4eb7b14b07"
      },
      "execution_count": null,
      "outputs": [
        {
          "output_type": "execute_result",
          "data": {
            "text/plain": [
              "True"
            ]
          },
          "metadata": {},
          "execution_count": 28
        }
      ]
    },
    {
      "cell_type": "code",
      "source": [
        "np.array_equal(x, z.numpy())"
      ],
      "metadata": {
        "colab": {
          "base_uri": "https://localhost:8080/"
        },
        "id": "PKgPi7O_4pNo",
        "outputId": "4e6e356a-9c17-49e0-8629-26f6a8904e22"
      },
      "execution_count": null,
      "outputs": [
        {
          "output_type": "execute_result",
          "data": {
            "text/plain": [
              "True"
            ]
          },
          "metadata": {},
          "execution_count": 34
        }
      ]
    },
    {
      "cell_type": "markdown",
      "source": [
        "### GPU\n",
        "* Must connect to a GPU instance"
      ],
      "metadata": {
        "id": "w_fIuopm6YWa"
      }
    },
    {
      "cell_type": "code",
      "source": [
        "!nvidia-smi"
      ],
      "metadata": {
        "colab": {
          "base_uri": "https://localhost:8080/"
        },
        "id": "R_1Xb2C64y2-",
        "outputId": "fba391b7-f462-4651-c5ab-3359e71271c3"
      },
      "execution_count": null,
      "outputs": [
        {
          "output_type": "stream",
          "name": "stdout",
          "text": [
            "Sat Jun 22 03:07:42 2024       \n",
            "+---------------------------------------------------------------------------------------+\n",
            "| NVIDIA-SMI 535.104.05             Driver Version: 535.104.05   CUDA Version: 12.2     |\n",
            "|-----------------------------------------+----------------------+----------------------+\n",
            "| GPU  Name                 Persistence-M | Bus-Id        Disp.A | Volatile Uncorr. ECC |\n",
            "| Fan  Temp   Perf          Pwr:Usage/Cap |         Memory-Usage | GPU-Util  Compute M. |\n",
            "|                                         |                      |               MIG M. |\n",
            "|=========================================+======================+======================|\n",
            "|   0  Tesla T4                       Off | 00000000:00:04.0 Off |                    0 |\n",
            "| N/A   45C    P8               9W /  70W |      0MiB / 15360MiB |      0%      Default |\n",
            "|                                         |                      |                  N/A |\n",
            "+-----------------------------------------+----------------------+----------------------+\n",
            "                                                                                         \n",
            "+---------------------------------------------------------------------------------------+\n",
            "| Processes:                                                                            |\n",
            "|  GPU   GI   CI        PID   Type   Process name                            GPU Memory |\n",
            "|        ID   ID                                                             Usage      |\n",
            "|=======================================================================================|\n",
            "|  No running processes found                                                           |\n",
            "+---------------------------------------------------------------------------------------+\n"
          ]
        }
      ]
    },
    {
      "cell_type": "code",
      "source": [
        "import torch\n",
        "torch.cuda.is_available()"
      ],
      "metadata": {
        "colab": {
          "base_uri": "https://localhost:8080/"
        },
        "id": "LKn1SxRz6n9z",
        "outputId": "a774ff09-86bf-47ab-e7f5-408ab8f9090d"
      },
      "execution_count": null,
      "outputs": [
        {
          "output_type": "execute_result",
          "data": {
            "text/plain": [
              "True"
            ]
          },
          "metadata": {},
          "execution_count": 3
        }
      ]
    },
    {
      "cell_type": "code",
      "source": [
        "torch.cuda.device_count()"
      ],
      "metadata": {
        "colab": {
          "base_uri": "https://localhost:8080/"
        },
        "id": "t7GddvL56af1",
        "outputId": "10f1ed11-e7b8-4fe0-cd2c-63bbe25dc52a"
      },
      "execution_count": null,
      "outputs": [
        {
          "output_type": "execute_result",
          "data": {
            "text/plain": [
              "1"
            ]
          },
          "metadata": {},
          "execution_count": 4
        }
      ]
    },
    {
      "cell_type": "code",
      "source": [
        "device = \"cuda\" if torch.cuda.is_available() else \"cpu\"\n",
        "print(device)"
      ],
      "metadata": {
        "colab": {
          "base_uri": "https://localhost:8080/"
        },
        "id": "agI4Gl2v6zD_",
        "outputId": "16200598-9753-49cb-9bb8-b9b79073d846"
      },
      "execution_count": null,
      "outputs": [
        {
          "output_type": "stream",
          "name": "stdout",
          "text": [
            "cuda\n"
          ]
        }
      ]
    },
    {
      "cell_type": "code",
      "source": [
        "x = torch.rand((3, 3))\n",
        "print(x.device)"
      ],
      "metadata": {
        "colab": {
          "base_uri": "https://localhost:8080/"
        },
        "id": "DdME-PHT68iO",
        "outputId": "3fce06d8-61af-4ca9-863a-18c910dc93e0"
      },
      "execution_count": null,
      "outputs": [
        {
          "output_type": "stream",
          "name": "stdout",
          "text": [
            "cpu\n"
          ]
        }
      ]
    },
    {
      "cell_type": "code",
      "source": [
        "x_gpu = x.to(device)\n",
        "print(x_gpu.device)"
      ],
      "metadata": {
        "colab": {
          "base_uri": "https://localhost:8080/"
        },
        "id": "bgN_4Hpq7Yzd",
        "outputId": "e099d65e-3b95-498c-b3f7-99eca14a655a"
      },
      "execution_count": null,
      "outputs": [
        {
          "output_type": "stream",
          "name": "stdout",
          "text": [
            "cuda:0\n"
          ]
        }
      ]
    },
    {
      "cell_type": "code",
      "source": [
        "x_cpu = x_gpu.cpu()\n",
        "print(x_cpu.device)"
      ],
      "metadata": {
        "colab": {
          "base_uri": "https://localhost:8080/"
        },
        "id": "yH5PR_uo7i0L",
        "outputId": "281f654b-fab0-42a8-dd44-a8c180b00f58"
      },
      "execution_count": null,
      "outputs": [
        {
          "output_type": "stream",
          "name": "stdout",
          "text": [
            "cpu\n"
          ]
        }
      ]
    },
    {
      "cell_type": "code",
      "source": [],
      "metadata": {
        "id": "BdotyxEW753H"
      },
      "execution_count": null,
      "outputs": []
    }
  ]
}