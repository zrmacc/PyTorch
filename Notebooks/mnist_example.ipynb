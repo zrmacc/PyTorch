{
  "nbformat": 4,
  "nbformat_minor": 0,
  "metadata": {
    "colab": {
      "provenance": [],
      "toc_visible": true
    },
    "kernelspec": {
      "name": "python3",
      "display_name": "Python 3"
    },
    "language_info": {
      "name": "python"
    }
  },
  "cells": [
    {
      "cell_type": "code",
      "execution_count": 51,
      "metadata": {
        "id": "koY-5PXxumbT"
      },
      "outputs": [],
      "source": [
        "import math\n",
        "import matplotlib.pyplot as plt\n",
        "import numpy as np\n",
        "import pandas as pd\n",
        "\n",
        "import torch\n",
        "import torch.nn.functional as F\n",
        "from torchvision import datasets, transforms"
      ]
    },
    {
      "cell_type": "code",
      "source": [
        "device = \"cuda\" if torch.cuda.is_available() else \"cpu\"\n",
        "print(f\"Available device: {device}\")"
      ],
      "metadata": {
        "colab": {
          "base_uri": "https://localhost:8080/"
        },
        "id": "MjyUh6uNY2Wd",
        "outputId": "5a092de6-4e2d-42c9-ade7-d1bd6a3ccdc7"
      },
      "execution_count": 100,
      "outputs": [
        {
          "output_type": "stream",
          "name": "stdout",
          "text": [
            "Available device: cpu\n"
          ]
        }
      ]
    },
    {
      "cell_type": "markdown",
      "source": [
        "## Resources\n",
        "* PyTorch [cheat sheet](https://pytorch.org/tutorials/beginner/ptcheat.html).\n",
        "* `torch.nn` [documentation](https://pytorch.org/docs/stable/nn.html).\n",
        "* `torchvision` [documentation](https://pytorch.org/vision/stable/index.html)."
      ],
      "metadata": {
        "id": "_diBLoiWu8QT"
      }
    },
    {
      "cell_type": "markdown",
      "source": [
        "## Load MNIST data"
      ],
      "metadata": {
        "id": "pk3guqW0w8F2"
      }
    },
    {
      "cell_type": "code",
      "source": [
        "def plot_images(\n",
        "    images: torch.Tensor,\n",
        "    labels: torch.Tensor,\n",
        "    num_images: int=9,\n",
        ") -> None:\n",
        "  \"\"\"Visualize images.\"\"\"\n",
        "  batch_size = images.size(0)\n",
        "\n",
        "  # Select images.\n",
        "  which_imgs = np.random.choice(batch_size, num_images, replace=False)\n",
        "  imgs = images[which_imgs, :]\n",
        "  labs = labels[which_imgs]\n",
        "\n",
        "  # Create plot.\n",
        "  n = math.floor(math.sqrt(num_images))\n",
        "  fig, axes = plt.subplots(n, n, figsize=(6, 6))\n",
        "  for i, ax in enumerate(axes.flat):\n",
        "    img = imgs[i].numpy().transpose((1, 2, 0)).squeeze()\n",
        "    ax.imshow(img, cmap='gray')\n",
        "    ax.set_title(f\"Label: {labs[i].item()}\")\n",
        "    ax.axis('off')\n",
        "\n",
        "  # Display plot.\n",
        "  plt.tight_layout()\n",
        "  plt.show()\n",
        "\n",
        "  return None"
      ],
      "metadata": {
        "id": "JvDC4wCqyKQc"
      },
      "execution_count": 2,
      "outputs": []
    },
    {
      "cell_type": "code",
      "source": [
        "%%capture\n",
        "transform = transforms.Compose([\n",
        "    transforms.ToTensor(),\n",
        "    transforms.Normalize((0.1307,), (0.3081,))\n",
        "])\n",
        "\n",
        "train = datasets.MNIST(root='./data', train=True, download=True, transform=transform)\n",
        "test = datasets.MNIST(root='./data', train=False, download=True, transform=transform)\n",
        "\n",
        "# Define data loaders.\n",
        "train_loader = torch.utils.data.DataLoader(dataset=train, batch_size=64, shuffle=True)\n",
        "test_loader = torch.utils.data.DataLoader(dataset=test, batch_size=1000, shuffle=False)"
      ],
      "metadata": {
        "id": "BpHdLMFmu2Jl"
      },
      "execution_count": 65,
      "outputs": []
    },
    {
      "cell_type": "code",
      "source": [
        "# Inspect a batch.\n",
        "images, labels = next(iter(train_loader))\n",
        "plot_images(images, labels)"
      ],
      "metadata": {
        "colab": {
          "base_uri": "https://localhost:8080/",
          "height": 607
        },
        "id": "ktHH-GVjw95C",
        "outputId": "b82ebb04-a99d-473f-b0eb-eb6e1b189fa3"
      },
      "execution_count": 4,
      "outputs": [
        {
          "output_type": "display_data",
          "data": {
            "text/plain": [
              "<Figure size 600x600 with 9 Axes>"
            ],
            "image/png": "[encoded data removed]"
          },
          "metadata": {}
        }
      ]
    },
    {
      "cell_type": "markdown",
      "source": [
        "## Basic model\n",
        "\n",
        "* Any subclass of `torch.nn.Module` must define a `forward` method."
      ],
      "metadata": {
        "id": "Zw6kzD_Y5j2x"
      }
    },
    {
      "cell_type": "code",
      "source": [
        "class SoftmaxRegression(torch.nn.Module):\n",
        "  \"\"\"Softmax regression.\n",
        "\n",
        "  Note the output for the forward pass is on logit scale.\n",
        "\n",
        "  \"\"\"\n",
        "\n",
        "  def __init__(self, input_size: int=28*28, n_classes: int=10):\n",
        "    super().__init__()\n",
        "    self.linear = torch.nn.Linear(input_size, n_classes)\n",
        "\n",
        "  def forward(self, x):\n",
        "    out = self.linear(x)\n",
        "    return out"
      ],
      "metadata": {
        "id": "PuX9ZNEdzq2-"
      },
      "execution_count": 5,
      "outputs": []
    },
    {
      "cell_type": "markdown",
      "source": [
        "### Train model\n",
        "* Key steps:\n",
        "  1. Forward pass\n",
        "  2. Calculate loss\n",
        "  3. Zero gradients\n",
        "  4. Backward pass\n",
        "  5. Update weights"
      ],
      "metadata": {
        "id": "M4WDJAPPIE_E"
      }
    },
    {
      "cell_type": "code",
      "source": [
        "def fit_model(\n",
        "    loader,\n",
        "    lr: float=0.001,\n",
        "    epochs: int=10,\n",
        "):\n",
        "\n",
        "  model = SoftmaxRegression()\n",
        "  loss_fn = torch.nn.CrossEntropyLoss()\n",
        "  optimizer = torch.optim.Adam(model.parameters(), lr=lr)\n",
        "\n",
        "  for epoch in range(epochs):\n",
        "      for batch_idx, (images, labels) in enumerate(loader):\n",
        "\n",
        "          # Forward pass.\n",
        "          flat_images = images.view(-1, 28*28)\n",
        "          logits = model(flat_images)\n",
        "          loss = loss_fn(logits, labels)\n",
        "\n",
        "          # Updated weights.\n",
        "          optimizer.zero_grad()\n",
        "          loss.backward()\n",
        "          optimizer.step()\n",
        "\n",
        "      print(f\"Epoch [{epoch + 1}/{epochs}], Loss: {loss.item():.4f}\")\n",
        "\n",
        "  return model"
      ],
      "metadata": {
        "id": "NP_-iVyW75aW"
      },
      "execution_count": 6,
      "outputs": []
    },
    {
      "cell_type": "code",
      "source": [
        "model = fit_model(train_loader)"
      ],
      "metadata": {
        "colab": {
          "base_uri": "https://localhost:8080/"
        },
        "id": "zqcraeen9ki7",
        "outputId": "a3140476-5770-4dbe-a6b1-3eec4b0e2e5f"
      },
      "execution_count": 7,
      "outputs": [
        {
          "output_type": "stream",
          "name": "stdout",
          "text": [
            "Epoch [1/10], Loss: 0.1600\n",
            "Epoch [2/10], Loss: 0.3802\n",
            "Epoch [3/10], Loss: 0.1754\n",
            "Epoch [4/10], Loss: 0.3377\n",
            "Epoch [5/10], Loss: 0.5416\n",
            "Epoch [6/10], Loss: 0.2574\n",
            "Epoch [7/10], Loss: 0.2053\n",
            "Epoch [8/10], Loss: 0.5985\n",
            "Epoch [9/10], Loss: 0.0553\n",
            "Epoch [10/10], Loss: 0.7612\n"
          ]
        }
      ]
    },
    {
      "cell_type": "markdown",
      "source": [
        "### Inspect model parameters"
      ],
      "metadata": {
        "id": "jDEEMLwFIIVJ"
      }
    },
    {
      "cell_type": "code",
      "source": [
        "state_dict = model.state_dict()\n",
        "state_dict.keys()"
      ],
      "metadata": {
        "id": "BYX5IXmc9tNI",
        "colab": {
          "base_uri": "https://localhost:8080/"
        },
        "outputId": "95453075-8821-4541-9daa-9f4a4c972d8a"
      },
      "execution_count": 19,
      "outputs": [
        {
          "output_type": "execute_result",
          "data": {
            "text/plain": [
              "odict_keys(['linear.weight', 'linear.bias'])"
            ]
          },
          "metadata": {},
          "execution_count": 19
        }
      ]
    },
    {
      "cell_type": "code",
      "source": [
        "weights = state_dict[\"linear.weight\"]\n",
        "weights.shape"
      ],
      "metadata": {
        "colab": {
          "base_uri": "https://localhost:8080/"
        },
        "id": "hASayrTEHmoI",
        "outputId": "76cd9679-000b-40dc-a5e9-4463f599fda2"
      },
      "execution_count": 23,
      "outputs": [
        {
          "output_type": "execute_result",
          "data": {
            "text/plain": [
              "torch.Size([10, 784])"
            ]
          },
          "metadata": {},
          "execution_count": 23
        }
      ]
    },
    {
      "cell_type": "code",
      "source": [
        "biases = state_dict[\"linear.bias\"]\n",
        "biases.shape"
      ],
      "metadata": {
        "colab": {
          "base_uri": "https://localhost:8080/"
        },
        "id": "wr_0SNyAISQp",
        "outputId": "67a5a999-42ff-43f0-b587-06e3851f9e73"
      },
      "execution_count": 24,
      "outputs": [
        {
          "output_type": "execute_result",
          "data": {
            "text/plain": [
              "torch.Size([10])"
            ]
          },
          "metadata": {},
          "execution_count": 24
        }
      ]
    },
    {
      "cell_type": "markdown",
      "source": [
        "### Generate predictions"
      ],
      "metadata": {
        "id": "ZfrU30n5JLrh"
      }
    },
    {
      "cell_type": "code",
      "source": [
        "results = {\"y\": [], \"yhat\": [], \"probs\": []}\n",
        "with torch.inference_mode():\n",
        "  for images, labels in test_loader:\n",
        "      flat_images = images.view(-1, 28*28)\n",
        "      logits = model(flat_images)\n",
        "\n",
        "      # Apply softmax to each row.\n",
        "      probs = F.softmax(logits, dim=1)\n",
        "\n",
        "      # Check that the sum across is row is 1.0.\n",
        "      assert torch.allclose(probs.sum(dim=1), torch.ones(probs.shape[0]))\n",
        "\n",
        "      # Obtain hard classification.\n",
        "      yhat = probs.argmax(dim=1)\n",
        "\n",
        "      # Results.\n",
        "      results[\"y\"].extend(np.array(labels))\n",
        "      results[\"yhat\"].extend(np.array(yhat))\n",
        "      results[\"probs\"].append(np.array(probs))\n"
      ],
      "metadata": {
        "id": "OJ5m0YVaJOy8"
      },
      "execution_count": 72,
      "outputs": []
    },
    {
      "cell_type": "code",
      "source": [
        "# Data frame of observed and predicted labels.\n",
        "df_results = pd.DataFrame({\n",
        "  \"y\": results[\"y\"],\n",
        "  \"yhat\": results[\"yhat\"],\n",
        "})"
      ],
      "metadata": {
        "id": "gkfPPDgTKmi2"
      },
      "execution_count": 76,
      "outputs": []
    },
    {
      "cell_type": "code",
      "source": [
        "# Matrix of predicted probabilities.\n",
        "probs = np.vstack(results[\"probs\"])"
      ],
      "metadata": {
        "id": "lPwYH0jaOqNQ"
      },
      "execution_count": 77,
      "outputs": []
    },
    {
      "cell_type": "markdown",
      "source": [
        "### Evaluate model\n",
        "\n",
        "* [sklearn.metrics](https://scikit-learn.org/stable/modules/model_evaluation.html)"
      ],
      "metadata": {
        "id": "gm-KeG1sPXzL"
      }
    },
    {
      "cell_type": "code",
      "source": [
        "from sklearn.metrics import roc_auc_score, average_precision_score\n",
        "from sklearn.preprocessing import label_binarize"
      ],
      "metadata": {
        "id": "McdqdTa-PdBF"
      },
      "execution_count": 81,
      "outputs": []
    },
    {
      "cell_type": "code",
      "source": [
        "# One-hot representation of labels.\n",
        "y_one_hot = label_binarize(df_results[\"y\"], classes=np.arange(10))"
      ],
      "metadata": {
        "id": "WuutrVBwO5fz"
      },
      "execution_count": 82,
      "outputs": []
    },
    {
      "cell_type": "code",
      "source": [
        "# AUROC.\n",
        "macro_auroc = roc_auc_score(\n",
        "  y_one_hot,\n",
        "  probs,\n",
        "  average='macro',\n",
        "  multi_class='ovr',\n",
        ")\n",
        "print(f\"{macro_auroc:0.3f}\")"
      ],
      "metadata": {
        "colab": {
          "base_uri": "https://localhost:8080/"
        },
        "id": "kmIG-o0XPNHP",
        "outputId": "828f21ec-c318-42be-959e-b09a38faa826"
      },
      "execution_count": 86,
      "outputs": [
        {
          "output_type": "stream",
          "name": "stdout",
          "text": [
            "0.994\n"
          ]
        }
      ]
    },
    {
      "cell_type": "code",
      "source": [
        "# AUPRC.\n",
        "macro_auprc = average_precision_score(\n",
        "  y_one_hot,\n",
        "  probs,\n",
        "  average='macro',\n",
        ")\n",
        "print(f\"{macro_auprc:0.3f}\")"
      ],
      "metadata": {
        "colab": {
          "base_uri": "https://localhost:8080/"
        },
        "id": "exAucVWiPhSK",
        "outputId": "ff4853f7-b541-42f1-87da-3ce625522d33"
      },
      "execution_count": 87,
      "outputs": [
        {
          "output_type": "stream",
          "name": "stdout",
          "text": [
            "0.968\n"
          ]
        }
      ]
    },
    {
      "cell_type": "markdown",
      "source": [
        "### Save model\n",
        "\n",
        "* Saving and loading [tutorial](https://pytorch.org/tutorials/beginner/saving_loading_models.html)"
      ],
      "metadata": {
        "id": "jgHPQkz0WWzb"
      }
    },
    {
      "cell_type": "code",
      "source": [
        "import os"
      ],
      "metadata": {
        "id": "0t-1h70iPoHZ"
      },
      "execution_count": 90,
      "outputs": []
    },
    {
      "cell_type": "code",
      "source": [
        "if not os.path.exists(\"models\"):\n",
        "  os.mkdir(\"models\")"
      ],
      "metadata": {
        "id": "F1N3CebJW0fJ"
      },
      "execution_count": 94,
      "outputs": []
    },
    {
      "cell_type": "code",
      "source": [
        "fout = \"models/model0.pth\"\n",
        "torch.save(model.state_dict(), fout)"
      ],
      "metadata": {
        "id": "w06ifv9bXD4T"
      },
      "execution_count": 95,
      "outputs": []
    },
    {
      "cell_type": "code",
      "source": [
        "new_model = SoftmaxRegression()\n",
        "new_model.load_state_dict(torch.load(fout))"
      ],
      "metadata": {
        "colab": {
          "base_uri": "https://localhost:8080/"
        },
        "id": "SHr6ykAKXvgt",
        "outputId": "8ad4b83e-c145-4c48-cfe6-3c82831e5ec2"
      },
      "execution_count": 97,
      "outputs": [
        {
          "output_type": "execute_result",
          "data": {
            "text/plain": [
              "<All keys matched successfully>"
            ]
          },
          "metadata": {},
          "execution_count": 97
        }
      ]
    },
    {
      "cell_type": "code",
      "source": [],
      "metadata": {
        "id": "ymMCPNRCX3cc"
      },
      "execution_count": null,
      "outputs": []
    }
  ]
}