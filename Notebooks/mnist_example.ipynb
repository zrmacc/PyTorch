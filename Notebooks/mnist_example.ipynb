{
  "nbformat": 4,
  "nbformat_minor": 0,
  "metadata": {
    "colab": {
      "provenance": [],
      "toc_visible": true
    },
    "kernelspec": {
      "name": "python3",
      "display_name": "Python 3"
    },
    "language_info": {
      "name": "python"
    }
  },
  "cells": [
    {
      "cell_type": "code",
      "execution_count": 42,
      "metadata": {
        "id": "koY-5PXxumbT"
      },
      "outputs": [],
      "source": [
        "import math\n",
        "import matplotlib.pyplot as plt\n",
        "import numpy as np\n",
        "import pandas as pd"
      ]
    },
    {
      "cell_type": "code",
      "source": [
        "import torch\n",
        "import torch.nn.functional as F\n",
        "from torchvision import datasets, transforms"
      ],
      "metadata": {
        "id": "7ttbCMyWrbur"
      },
      "execution_count": 43,
      "outputs": []
    },
    {
      "cell_type": "code",
      "source": [
        "from sklearn.metrics import roc_auc_score, average_precision_score\n",
        "from sklearn.preprocessing import label_binarize"
      ],
      "metadata": {
        "id": "k958EelPracp"
      },
      "execution_count": 44,
      "outputs": []
    },
    {
      "cell_type": "code",
      "source": [
        "from typing import Any, Dict"
      ],
      "metadata": {
        "id": "FCgs1TV8o0wm"
      },
      "execution_count": 52,
      "outputs": []
    },
    {
      "cell_type": "code",
      "source": [
        "device = \"cuda\" if torch.cuda.is_available() else \"cpu\"\n",
        "print(f\"Available device: {device}\")"
      ],
      "metadata": {
        "colab": {
          "base_uri": "https://localhost:8080/"
        },
        "id": "MjyUh6uNY2Wd",
        "outputId": "3830a12f-741a-455c-eadb-61e26dfd7c34"
      },
      "execution_count": 46,
      "outputs": [
        {
          "output_type": "stream",
          "name": "stdout",
          "text": [
            "Available device: cpu\n"
          ]
        }
      ]
    },
    {
      "cell_type": "markdown",
      "source": [
        "## Resources\n",
        "* PyTorch [cheat sheet](https://pytorch.org/tutorials/beginner/ptcheat.html).\n",
        "* `torch.nn` [documentation](https://pytorch.org/docs/stable/nn.html).\n",
        "* `torchvision` [documentation](https://pytorch.org/vision/stable/index.html)."
      ],
      "metadata": {
        "id": "_diBLoiWu8QT"
      }
    },
    {
      "cell_type": "markdown",
      "source": [
        "## Load MNIST data"
      ],
      "metadata": {
        "id": "pk3guqW0w8F2"
      }
    },
    {
      "cell_type": "code",
      "source": [
        "def plot_images(\n",
        "    images: torch.Tensor,\n",
        "    labels: torch.Tensor,\n",
        "    num_images: int=9,\n",
        ") -> None:\n",
        "  \"\"\"Visualize images.\"\"\"\n",
        "  batch_size = images.size(0)\n",
        "\n",
        "  # Select images.\n",
        "  which_imgs = np.random.choice(batch_size, num_images, replace=False)\n",
        "  imgs = images[which_imgs, :]\n",
        "  labs = labels[which_imgs]\n",
        "\n",
        "  # Create plot.\n",
        "  n = math.floor(math.sqrt(num_images))\n",
        "  fig, axes = plt.subplots(n, n, figsize=(6, 6))\n",
        "  for i, ax in enumerate(axes.flat):\n",
        "    img = imgs[i].numpy().transpose((1, 2, 0)).squeeze()\n",
        "    ax.imshow(img, cmap='gray')\n",
        "    ax.set_title(f\"Label: {labs[i].item()}\")\n",
        "    ax.axis('off')\n",
        "\n",
        "  # Display plot.\n",
        "  plt.tight_layout()\n",
        "  plt.show()\n",
        "\n",
        "  return None"
      ],
      "metadata": {
        "id": "JvDC4wCqyKQc"
      },
      "execution_count": 77,
      "outputs": []
    },
    {
      "cell_type": "code",
      "source": [
        "%%capture\n",
        "transform = transforms.Compose([\n",
        "    transforms.ToTensor(),\n",
        "    transforms.Normalize((0.1307,), (0.3081,))\n",
        "])\n",
        "\n",
        "train = datasets.MNIST(root='./data', train=True, download=True, transform=transform)\n",
        "test = datasets.MNIST(root='./data', train=False, download=True, transform=transform)\n",
        "\n",
        "# Define data loaders.\n",
        "train_loader = torch.utils.data.DataLoader(dataset=train, batch_size=64, shuffle=True)\n",
        "test_loader = torch.utils.data.DataLoader(dataset=test, batch_size=1000, shuffle=False)"
      ],
      "metadata": {
        "id": "BpHdLMFmu2Jl"
      },
      "execution_count": 4,
      "outputs": []
    },
    {
      "cell_type": "code",
      "source": [
        "# Inspect a batch.\n",
        "images, labels = next(iter(train_loader))\n",
        "plot_images(images, labels)"
      ],
      "metadata": {
        "colab": {
          "base_uri": "https://localhost:8080/",
          "height": 607
        },
        "id": "ktHH-GVjw95C",
        "outputId": "ee399d1d-4e3e-4bce-e335-bf10abf1c4b9"
      },
      "execution_count": 5,
      "outputs": [
        {
          "output_type": "display_data",
          "data": {
            "text/plain": [
              "<Figure size 600x600 with 9 Axes>"
            ],
            "image/png": "[encoded data removed]"
          },
          "metadata": {}
        }
      ]
    },
    {
      "cell_type": "markdown",
      "source": [
        "## Basic model\n",
        "\n",
        "* Any subclass of `torch.nn.Module` must define a `forward` method."
      ],
      "metadata": {
        "id": "Zw6kzD_Y5j2x"
      }
    },
    {
      "cell_type": "code",
      "source": [
        "class SoftmaxRegression(torch.nn.Module):\n",
        "  \"\"\"Softmax regression.\n",
        "\n",
        "  Note the output for the forward pass is on logit scale.\n",
        "\n",
        "  \"\"\"\n",
        "\n",
        "  def __init__(self, input_size: int=28*28, n_classes: int=10):\n",
        "    super().__init__()\n",
        "    self.linear = torch.nn.Linear(input_size, n_classes)\n",
        "\n",
        "  def forward(self, x):\n",
        "    out = self.linear(x)\n",
        "    return out"
      ],
      "metadata": {
        "id": "PuX9ZNEdzq2-"
      },
      "execution_count": null,
      "outputs": []
    },
    {
      "cell_type": "markdown",
      "source": [
        "### Train model\n",
        "* Key steps:\n",
        "  1. Forward pass\n",
        "  2. Calculate loss\n",
        "  3. Zero gradients\n",
        "  4. Backward pass\n",
        "  5. Update weights"
      ],
      "metadata": {
        "id": "M4WDJAPPIE_E"
      }
    },
    {
      "cell_type": "code",
      "source": [
        "def fit_model(\n",
        "    loader: torch.utils.data.DataLoader,\n",
        "    lr: float=0.001,\n",
        "    epochs: int=10,\n",
        "):\n",
        "\n",
        "  model = SoftmaxRegression()\n",
        "  loss_fn = torch.nn.CrossEntropyLoss()\n",
        "  optimizer = torch.optim.Adam(model.parameters(), lr=lr)\n",
        "\n",
        "  for epoch in range(epochs):\n",
        "      for batch_idx, (images, labels) in enumerate(loader):\n",
        "\n",
        "          # Forward pass.\n",
        "          flat_images = images.view(-1, 28*28)\n",
        "          logits = model(flat_images)\n",
        "          loss = loss_fn(logits, labels)\n",
        "\n",
        "          # Updated weights.\n",
        "          optimizer.zero_grad()\n",
        "          loss.backward()\n",
        "          optimizer.step()\n",
        "\n",
        "      print(f\"Epoch [{epoch + 1}/{epochs}], Loss: {loss.item():.4f}\")\n",
        "\n",
        "  return model"
      ],
      "metadata": {
        "id": "NP_-iVyW75aW"
      },
      "execution_count": null,
      "outputs": []
    },
    {
      "cell_type": "code",
      "source": [
        "model = fit_model(train_loader)"
      ],
      "metadata": {
        "colab": {
          "base_uri": "https://localhost:8080/"
        },
        "id": "zqcraeen9ki7",
        "outputId": "a3140476-5770-4dbe-a6b1-3eec4b0e2e5f"
      },
      "execution_count": null,
      "outputs": [
        {
          "output_type": "stream",
          "name": "stdout",
          "text": [
            "Epoch [1/10], Loss: 0.1600\n",
            "Epoch [2/10], Loss: 0.3802\n",
            "Epoch [3/10], Loss: 0.1754\n",
            "Epoch [4/10], Loss: 0.3377\n",
            "Epoch [5/10], Loss: 0.5416\n",
            "Epoch [6/10], Loss: 0.2574\n",
            "Epoch [7/10], Loss: 0.2053\n",
            "Epoch [8/10], Loss: 0.5985\n",
            "Epoch [9/10], Loss: 0.0553\n",
            "Epoch [10/10], Loss: 0.7612\n"
          ]
        }
      ]
    },
    {
      "cell_type": "markdown",
      "source": [
        "### Inspect model parameters"
      ],
      "metadata": {
        "id": "jDEEMLwFIIVJ"
      }
    },
    {
      "cell_type": "code",
      "source": [
        "state_dict = model.state_dict()\n",
        "state_dict.keys()"
      ],
      "metadata": {
        "id": "BYX5IXmc9tNI",
        "colab": {
          "base_uri": "https://localhost:8080/"
        },
        "outputId": "95453075-8821-4541-9daa-9f4a4c972d8a"
      },
      "execution_count": null,
      "outputs": [
        {
          "output_type": "execute_result",
          "data": {
            "text/plain": [
              "odict_keys(['linear.weight', 'linear.bias'])"
            ]
          },
          "metadata": {},
          "execution_count": 19
        }
      ]
    },
    {
      "cell_type": "code",
      "source": [
        "weights = state_dict[\"linear.weight\"]\n",
        "weights.shape"
      ],
      "metadata": {
        "colab": {
          "base_uri": "https://localhost:8080/"
        },
        "id": "hASayrTEHmoI",
        "outputId": "76cd9679-000b-40dc-a5e9-4463f599fda2"
      },
      "execution_count": null,
      "outputs": [
        {
          "output_type": "execute_result",
          "data": {
            "text/plain": [
              "torch.Size([10, 784])"
            ]
          },
          "metadata": {},
          "execution_count": 23
        }
      ]
    },
    {
      "cell_type": "code",
      "source": [
        "biases = state_dict[\"linear.bias\"]\n",
        "biases.shape"
      ],
      "metadata": {
        "colab": {
          "base_uri": "https://localhost:8080/"
        },
        "id": "wr_0SNyAISQp",
        "outputId": "67a5a999-42ff-43f0-b587-06e3851f9e73"
      },
      "execution_count": null,
      "outputs": [
        {
          "output_type": "execute_result",
          "data": {
            "text/plain": [
              "torch.Size([10])"
            ]
          },
          "metadata": {},
          "execution_count": 24
        }
      ]
    },
    {
      "cell_type": "markdown",
      "source": [
        "### Generate predictions"
      ],
      "metadata": {
        "id": "ZfrU30n5JLrh"
      }
    },
    {
      "cell_type": "code",
      "source": [
        "results = {\"y\": [], \"yhat\": [], \"probs\": []}\n",
        "with torch.inference_mode():\n",
        "  for images, labels in test_loader:\n",
        "      flat_images = images.view(-1, 28*28)\n",
        "      logits = model(flat_images)\n",
        "\n",
        "      # Apply softmax to each row.\n",
        "      probs = F.softmax(logits, dim=1)\n",
        "\n",
        "      # Check that the sum across is row is 1.0.\n",
        "      assert torch.allclose(probs.sum(dim=1), torch.ones(probs.shape[0]))\n",
        "\n",
        "      # Obtain hard classification.\n",
        "      yhat = probs.argmax(dim=1)\n",
        "\n",
        "      # Results.\n",
        "      results[\"y\"].extend(np.array(labels))\n",
        "      results[\"yhat\"].extend(np.array(yhat))\n",
        "      results[\"probs\"].append(np.array(probs))\n"
      ],
      "metadata": {
        "id": "OJ5m0YVaJOy8"
      },
      "execution_count": null,
      "outputs": []
    },
    {
      "cell_type": "code",
      "source": [
        "# Data frame of observed and predicted labels.\n",
        "df_results = pd.DataFrame({\n",
        "  \"y\": results[\"y\"],\n",
        "  \"yhat\": results[\"yhat\"],\n",
        "})"
      ],
      "metadata": {
        "id": "gkfPPDgTKmi2"
      },
      "execution_count": null,
      "outputs": []
    },
    {
      "cell_type": "code",
      "source": [
        "# Matrix of predicted probabilities.\n",
        "probs = np.vstack(results[\"probs\"])"
      ],
      "metadata": {
        "id": "lPwYH0jaOqNQ"
      },
      "execution_count": null,
      "outputs": []
    },
    {
      "cell_type": "markdown",
      "source": [
        "### Evaluate model\n",
        "\n",
        "* [sklearn.metrics](https://scikit-learn.org/stable/modules/model_evaluation.html)"
      ],
      "metadata": {
        "id": "gm-KeG1sPXzL"
      }
    },
    {
      "cell_type": "code",
      "source": [
        "# One-hot representation of labels.\n",
        "y_one_hot = label_binarize(df_results[\"y\"], classes=np.arange(10))"
      ],
      "metadata": {
        "id": "WuutrVBwO5fz"
      },
      "execution_count": null,
      "outputs": []
    },
    {
      "cell_type": "code",
      "source": [
        "# AUROC.\n",
        "macro_auroc = roc_auc_score(\n",
        "  y_one_hot,\n",
        "  probs,\n",
        "  average='macro',\n",
        "  multi_class='ovr',\n",
        ")\n",
        "print(f\"{macro_auroc:0.3f}\")"
      ],
      "metadata": {
        "colab": {
          "base_uri": "https://localhost:8080/"
        },
        "id": "kmIG-o0XPNHP",
        "outputId": "828f21ec-c318-42be-959e-b09a38faa826"
      },
      "execution_count": null,
      "outputs": [
        {
          "output_type": "stream",
          "name": "stdout",
          "text": [
            "0.994\n"
          ]
        }
      ]
    },
    {
      "cell_type": "code",
      "source": [
        "# AUPRC.\n",
        "macro_auprc = average_precision_score(\n",
        "  y_one_hot,\n",
        "  probs,\n",
        "  average='macro',\n",
        ")\n",
        "print(f\"{macro_auprc:0.3f}\")"
      ],
      "metadata": {
        "colab": {
          "base_uri": "https://localhost:8080/"
        },
        "id": "exAucVWiPhSK",
        "outputId": "ff4853f7-b541-42f1-87da-3ce625522d33"
      },
      "execution_count": null,
      "outputs": [
        {
          "output_type": "stream",
          "name": "stdout",
          "text": [
            "0.968\n"
          ]
        }
      ]
    },
    {
      "cell_type": "markdown",
      "source": [
        "### Save model\n",
        "\n",
        "* Saving and loading [tutorial](https://pytorch.org/tutorials/beginner/saving_loading_models.html)"
      ],
      "metadata": {
        "id": "jgHPQkz0WWzb"
      }
    },
    {
      "cell_type": "code",
      "source": [
        "import os"
      ],
      "metadata": {
        "id": "0t-1h70iPoHZ"
      },
      "execution_count": null,
      "outputs": []
    },
    {
      "cell_type": "code",
      "source": [
        "if not os.path.exists(\"models\"):\n",
        "  os.mkdir(\"models\")"
      ],
      "metadata": {
        "id": "F1N3CebJW0fJ"
      },
      "execution_count": null,
      "outputs": []
    },
    {
      "cell_type": "code",
      "source": [
        "fout = \"models/model0.pth\"\n",
        "torch.save(model.state_dict(), fout)"
      ],
      "metadata": {
        "id": "w06ifv9bXD4T"
      },
      "execution_count": null,
      "outputs": []
    },
    {
      "cell_type": "code",
      "source": [
        "new_model = SoftmaxRegression()\n",
        "new_model.load_state_dict(torch.load(fout))"
      ],
      "metadata": {
        "colab": {
          "base_uri": "https://localhost:8080/"
        },
        "id": "SHr6ykAKXvgt",
        "outputId": "8ad4b83e-c145-4c48-cfe6-3c82831e5ec2"
      },
      "execution_count": null,
      "outputs": [
        {
          "output_type": "execute_result",
          "data": {
            "text/plain": [
              "<All keys matched successfully>"
            ]
          },
          "metadata": {},
          "execution_count": 97
        }
      ]
    },
    {
      "cell_type": "markdown",
      "source": [
        "## Convolutional model"
      ],
      "metadata": {
        "id": "h2NsuGficeam"
      }
    },
    {
      "cell_type": "code",
      "source": [
        "class ConvModel(torch.nn.Module):\n",
        "  \"\"\"Convolutional MNIST classification mode.\"\"\"\n",
        "\n",
        "  def __init__(self, drop=0.25):\n",
        "    super().__init__()\n",
        "    self.conv1 = torch.nn.Conv2d(1, 32, kernel_size=3)\n",
        "    self.bn1 = torch.nn.BatchNorm2d(32)\n",
        "    self.conv2 = torch.nn.Conv2d(32, 64, kernel_size=4)\n",
        "    self.bn2 = torch.nn.BatchNorm2d(64)\n",
        "    self.pool = torch.nn.MaxPool2d(2, 2)\n",
        "    self.linear1 = torch.nn.Linear(64 * 5 * 5, 128)\n",
        "    self.linear2 = torch.nn.Linear(128, 10)\n",
        "    self.drop = torch.nn.Dropout(p=drop)\n",
        "\n",
        "  def forward(self, x):\n",
        "    x = self.pool(F.selu(self.bn1(self.conv1(x))))\n",
        "    x = self.pool(F.selu(self.bn2(self.conv2(x))))\n",
        "    x = x.view(-1, 64 * 5 * 5)\n",
        "    x = self.drop(x)\n",
        "    x = self.linear1(x)\n",
        "    x = self.drop(x)\n",
        "    x = self.linear2(x)\n",
        "    return x\n"
      ],
      "metadata": {
        "id": "Jtvz-JQncj1D"
      },
      "execution_count": 25,
      "outputs": []
    },
    {
      "cell_type": "markdown",
      "source": [
        "### Train model"
      ],
      "metadata": {
        "id": "YNDvSlFanbXG"
      }
    },
    {
      "cell_type": "code",
      "source": [
        "def fit_model(\n",
        "    loader,\n",
        "    lr: float=0.001,\n",
        "    epochs: int=5,\n",
        "):\n",
        "\n",
        "  model = ConvModel()\n",
        "  loss_fn = torch.nn.CrossEntropyLoss()\n",
        "  optimizer = torch.optim.Adam(model.parameters(), lr=lr)\n",
        "\n",
        "  for epoch in range(epochs):\n",
        "      for batch_idx, (images, labels) in enumerate(loader):\n",
        "\n",
        "          # Forward pass.\n",
        "          logits = model(images)\n",
        "          loss = loss_fn(logits, labels)\n",
        "\n",
        "          # Updated weights.\n",
        "          optimizer.zero_grad()\n",
        "          loss.backward()\n",
        "          optimizer.step()\n",
        "\n",
        "      print(f\"Epoch [{epoch + 1}/{epochs}], Loss: {loss.item():.4f}\")\n",
        "\n",
        "  return model"
      ],
      "metadata": {
        "id": "MXgczOajmRYI"
      },
      "execution_count": 34,
      "outputs": []
    },
    {
      "cell_type": "code",
      "source": [
        "model = fit_model(train_loader)"
      ],
      "metadata": {
        "colab": {
          "base_uri": "https://localhost:8080/"
        },
        "id": "aHDThElEm1F9",
        "outputId": "68553ad2-477b-4f8d-acd5-b9d4af08778b"
      },
      "execution_count": 35,
      "outputs": [
        {
          "output_type": "stream",
          "name": "stdout",
          "text": [
            "Epoch [1/10], Loss: 0.0041\n",
            "Epoch [2/10], Loss: 0.0394\n",
            "Epoch [3/10], Loss: 0.0190\n",
            "Epoch [4/10], Loss: 0.0037\n",
            "Epoch [5/10], Loss: 0.0420\n",
            "Epoch [6/10], Loss: 0.0090\n",
            "Epoch [7/10], Loss: 0.0023\n",
            "Epoch [8/10], Loss: 0.0008\n",
            "Epoch [9/10], Loss: 0.0074\n",
            "Epoch [10/10], Loss: 0.0330\n"
          ]
        }
      ]
    },
    {
      "cell_type": "markdown",
      "source": [
        "### Evaluate model"
      ],
      "metadata": {
        "id": "4KVqjMzRnd1c"
      }
    },
    {
      "cell_type": "code",
      "source": [
        "def eval_model(\n",
        "    model: torch.nn.Module,\n",
        "    loader: torch.utils.data.DataLoader,\n",
        ") -> Dict[str, Any]:\n",
        "\n",
        "  # Generate predictions.\n",
        "  preds = {\"y\": [], \"yhat\": [], \"probs\": []}\n",
        "  with torch.inference_mode():\n",
        "    for images, labels in loader:\n",
        "\n",
        "        # Apply softmax to each row.\n",
        "        probs = F.softmax(model(images), dim=1)\n",
        "\n",
        "        # Check that the sum across is row is 1.0.\n",
        "        assert torch.allclose(probs.sum(dim=1), torch.ones(probs.shape[0]))\n",
        "\n",
        "        # Obtain hard classification.\n",
        "        yhat = probs.argmax(dim=1)\n",
        "\n",
        "        # Predictions.\n",
        "        preds[\"y\"].extend(np.array(labels))\n",
        "        preds[\"yhat\"].extend(np.array(yhat))\n",
        "        preds[\"probs\"].append(np.array(probs))\n",
        "\n",
        "  # Evaluate predictions.\n",
        "  preds[\"probs\"] = np.vstack(preds[\"probs\"])\n",
        "  y_one_hot = label_binarize(preds[\"y\"], classes=np.arange(10))\n",
        "\n",
        "  # AUROC.\n",
        "  auroc = roc_auc_score(\n",
        "    y_one_hot,\n",
        "    preds[\"probs\"],\n",
        "    average='macro',\n",
        "    multi_class='ovr',\n",
        "  )\n",
        "  print(f\"AUROC: {auroc:0.3f}\")\n",
        "\n",
        "  # AUPRC.\n",
        "  auprc = average_precision_score(\n",
        "    y_one_hot,\n",
        "    preds[\"probs\"],\n",
        "    average='macro',\n",
        "  )\n",
        "  print(f\"AUPRC: {auprc:0.3f}\")\n",
        "\n",
        "  # Metric dataframe.\n",
        "  metrics = pd.DataFrame({\"auroc\": [auroc], \"auprc\": [auprc]})\n",
        "\n",
        "  # Output.\n",
        "  return {\n",
        "    \"labs\": pd.DataFrame({\"y\": preds[\"y\"], \"yhat\": preds[\"yhat\"]}),\n",
        "    \"probs\": preds[\"probs\"],\n",
        "    \"metrics\": metrics,\n",
        "  }"
      ],
      "metadata": {
        "id": "ys1O11ZXm69g"
      },
      "execution_count": 59,
      "outputs": []
    },
    {
      "cell_type": "code",
      "source": [
        "eval_dict = eval_model(model, test_loader)"
      ],
      "metadata": {
        "colab": {
          "base_uri": "https://localhost:8080/"
        },
        "id": "4_MV3cm8qmLc",
        "outputId": "3733f7de-2bb7-4ec0-bcc1-c9a6bbdebfd9"
      },
      "execution_count": 60,
      "outputs": [
        {
          "output_type": "stream",
          "name": "stdout",
          "text": [
            "AUROC: 1.000\n",
            "AUPRC: 0.998\n"
          ]
        }
      ]
    },
    {
      "cell_type": "code",
      "source": [
        "lab_df = eval_dict[\"labs\"]\n",
        "lab_df.head()"
      ],
      "metadata": {
        "colab": {
          "base_uri": "https://localhost:8080/",
          "height": 206
        },
        "id": "VT37PFi7rTxA",
        "outputId": "a78144d3-2ee2-42a4-9b1b-b1058b78727d"
      },
      "execution_count": 62,
      "outputs": [
        {
          "output_type": "execute_result",
          "data": {
            "text/plain": [
              "   y  yhat\n",
              "0  7     7\n",
              "1  2     2\n",
              "2  1     1\n",
              "3  0     0\n",
              "4  4     4"
            ],
            "text/html": [
              "\n",
              "  <div id=\"df-3abb7e93-1a4d-4689-b888-4cf2346f4821\" class=\"colab-df-container\">\n",
              "    <div>\n",
              "<style scoped>\n",
              "    .dataframe tbody tr th:only-of-type {\n",
              "        vertical-align: middle;\n",
              "    }\n",
              "\n",
              "    .dataframe tbody tr th {\n",
              "        vertical-align: top;\n",
              "    }\n",
              "\n",
              "    .dataframe thead th {\n",
              "        text-align: right;\n",
              "    }\n",
              "</style>\n",
              "<table border=\"1\" class=\"dataframe\">\n",
              "  <thead>\n",
              "    <tr style=\"text-align: right;\">\n",
              "      <th></th>\n",
              "      <th>y</th>\n",
              "      <th>yhat</th>\n",
              "    </tr>\n",
              "  </thead>\n",
              "  <tbody>\n",
              "    <tr>\n",
              "      <th>0</th>\n",
              "      <td>7</td>\n",
              "      <td>7</td>\n",
              "    </tr>\n",
              "    <tr>\n",
              "      <th>1</th>\n",
              "      <td>2</td>\n",
              "      <td>2</td>\n",
              "    </tr>\n",
              "    <tr>\n",
              "      <th>2</th>\n",
              "      <td>1</td>\n",
              "      <td>1</td>\n",
              "    </tr>\n",
              "    <tr>\n",
              "      <th>3</th>\n",
              "      <td>0</td>\n",
              "      <td>0</td>\n",
              "    </tr>\n",
              "    <tr>\n",
              "      <th>4</th>\n",
              "      <td>4</td>\n",
              "      <td>4</td>\n",
              "    </tr>\n",
              "  </tbody>\n",
              "</table>\n",
              "</div>\n",
              "    <div class=\"colab-df-buttons\">\n",
              "\n",
              "  <div class=\"colab-df-container\">\n",
              "    <button class=\"colab-df-convert\" onclick=\"convertToInteractive('df-3abb7e93-1a4d-4689-b888-4cf2346f4821')\"\n",
              "            title=\"Convert this dataframe to an interactive table.\"\n",
              "            style=\"display:none;\">\n",
              "\n",
              "  <svg xmlns=\"http://www.w3.org/2000/svg\" height=\"24px\" viewBox=\"0 -960 960 960\">\n",
              "    <path d=\"M120-120v-720h720v720H120Zm60-500h600v-160H180v160Zm220 220h160v-160H400v160Zm0 220h160v-160H400v160ZM180-400h160v-160H180v160Zm440 0h160v-160H620v160ZM180-180h160v-160H180v160Zm440 0h160v-160H620v160Z\"/>\n",
              "  </svg>\n",
              "    </button>\n",
              "\n",
              "  <style>\n",
              "    .colab-df-container {\n",
              "      display:flex;\n",
              "      gap: 12px;\n",
              "    }\n",
              "\n",
              "    .colab-df-convert {\n",
              "      background-color: #E8F0FE;\n",
              "      border: none;\n",
              "      border-radius: 50%;\n",
              "      cursor: pointer;\n",
              "      display: none;\n",
              "      fill: #1967D2;\n",
              "      height: 32px;\n",
              "      padding: 0 0 0 0;\n",
              "      width: 32px;\n",
              "    }\n",
              "\n",
              "    .colab-df-convert:hover {\n",
              "      background-color: #E2EBFA;\n",
              "      box-shadow: 0px 1px 2px rgba(60, 64, 67, 0.3), 0px 1px 3px 1px rgba(60, 64, 67, 0.15);\n",
              "      fill: #174EA6;\n",
              "    }\n",
              "\n",
              "    .colab-df-buttons div {\n",
              "      margin-bottom: 4px;\n",
              "    }\n",
              "\n",
              "    [theme=dark] .colab-df-convert {\n",
              "      background-color: #3B4455;\n",
              "      fill: #D2E3FC;\n",
              "    }\n",
              "\n",
              "    [theme=dark] .colab-df-convert:hover {\n",
              "      background-color: #434B5C;\n",
              "      box-shadow: 0px 1px 3px 1px rgba(0, 0, 0, 0.15);\n",
              "      filter: drop-shadow(0px 1px 2px rgba(0, 0, 0, 0.3));\n",
              "      fill: #FFFFFF;\n",
              "    }\n",
              "  </style>\n",
              "\n",
              "    <script>\n",
              "      const buttonEl =\n",
              "        document.querySelector('#df-3abb7e93-1a4d-4689-b888-4cf2346f4821 button.colab-df-convert');\n",
              "      buttonEl.style.display =\n",
              "        google.colab.kernel.accessAllowed ? 'block' : 'none';\n",
              "\n",
              "      async function convertToInteractive(key) {\n",
              "        const element = document.querySelector('#df-3abb7e93-1a4d-4689-b888-4cf2346f4821');\n",
              "        const dataTable =\n",
              "          await google.colab.kernel.invokeFunction('convertToInteractive',\n",
              "                                                    [key], {});\n",
              "        if (!dataTable) return;\n",
              "\n",
              "        const docLinkHtml = 'Like what you see? Visit the ' +\n",
              "          '<a target=\"_blank\" href=https://colab.research.google.com/notebooks/data_table.ipynb>data table notebook</a>'\n",
              "          + ' to learn more about interactive tables.';\n",
              "        element.innerHTML = '';\n",
              "        dataTable['output_type'] = 'display_data';\n",
              "        await google.colab.output.renderOutput(dataTable, element);\n",
              "        const docLink = document.createElement('div');\n",
              "        docLink.innerHTML = docLinkHtml;\n",
              "        element.appendChild(docLink);\n",
              "      }\n",
              "    </script>\n",
              "  </div>\n",
              "\n",
              "\n",
              "<div id=\"df-029bd29a-8048-4fec-9685-a9ecab04fe6a\">\n",
              "  <button class=\"colab-df-quickchart\" onclick=\"quickchart('df-029bd29a-8048-4fec-9685-a9ecab04fe6a')\"\n",
              "            title=\"Suggest charts\"\n",
              "            style=\"display:none;\">\n",
              "\n",
              "<svg xmlns=\"http://www.w3.org/2000/svg\" height=\"24px\"viewBox=\"0 0 24 24\"\n",
              "     width=\"24px\">\n",
              "    <g>\n",
              "        <path d=\"M19 3H5c-1.1 0-2 .9-2 2v14c0 1.1.9 2 2 2h14c1.1 0 2-.9 2-2V5c0-1.1-.9-2-2-2zM9 17H7v-7h2v7zm4 0h-2V7h2v10zm4 0h-2v-4h2v4z\"/>\n",
              "    </g>\n",
              "</svg>\n",
              "  </button>\n",
              "\n",
              "<style>\n",
              "  .colab-df-quickchart {\n",
              "      --bg-color: #E8F0FE;\n",
              "      --fill-color: #1967D2;\n",
              "      --hover-bg-color: #E2EBFA;\n",
              "      --hover-fill-color: #174EA6;\n",
              "      --disabled-fill-color: #AAA;\n",
              "      --disabled-bg-color: #DDD;\n",
              "  }\n",
              "\n",
              "  [theme=dark] .colab-df-quickchart {\n",
              "      --bg-color: #3B4455;\n",
              "      --fill-color: #D2E3FC;\n",
              "      --hover-bg-color: #434B5C;\n",
              "      --hover-fill-color: #FFFFFF;\n",
              "      --disabled-bg-color: #3B4455;\n",
              "      --disabled-fill-color: #666;\n",
              "  }\n",
              "\n",
              "  .colab-df-quickchart {\n",
              "    background-color: var(--bg-color);\n",
              "    border: none;\n",
              "    border-radius: 50%;\n",
              "    cursor: pointer;\n",
              "    display: none;\n",
              "    fill: var(--fill-color);\n",
              "    height: 32px;\n",
              "    padding: 0;\n",
              "    width: 32px;\n",
              "  }\n",
              "\n",
              "  .colab-df-quickchart:hover {\n",
              "    background-color: var(--hover-bg-color);\n",
              "    box-shadow: 0 1px 2px rgba(60, 64, 67, 0.3), 0 1px 3px 1px rgba(60, 64, 67, 0.15);\n",
              "    fill: var(--button-hover-fill-color);\n",
              "  }\n",
              "\n",
              "  .colab-df-quickchart-complete:disabled,\n",
              "  .colab-df-quickchart-complete:disabled:hover {\n",
              "    background-color: var(--disabled-bg-color);\n",
              "    fill: var(--disabled-fill-color);\n",
              "    box-shadow: none;\n",
              "  }\n",
              "\n",
              "  .colab-df-spinner {\n",
              "    border: 2px solid var(--fill-color);\n",
              "    border-color: transparent;\n",
              "    border-bottom-color: var(--fill-color);\n",
              "    animation:\n",
              "      spin 1s steps(1) infinite;\n",
              "  }\n",
              "\n",
              "  @keyframes spin {\n",
              "    0% {\n",
              "      border-color: transparent;\n",
              "      border-bottom-color: var(--fill-color);\n",
              "      border-left-color: var(--fill-color);\n",
              "    }\n",
              "    20% {\n",
              "      border-color: transparent;\n",
              "      border-left-color: var(--fill-color);\n",
              "      border-top-color: var(--fill-color);\n",
              "    }\n",
              "    30% {\n",
              "      border-color: transparent;\n",
              "      border-left-color: var(--fill-color);\n",
              "      border-top-color: var(--fill-color);\n",
              "      border-right-color: var(--fill-color);\n",
              "    }\n",
              "    40% {\n",
              "      border-color: transparent;\n",
              "      border-right-color: var(--fill-color);\n",
              "      border-top-color: var(--fill-color);\n",
              "    }\n",
              "    60% {\n",
              "      border-color: transparent;\n",
              "      border-right-color: var(--fill-color);\n",
              "    }\n",
              "    80% {\n",
              "      border-color: transparent;\n",
              "      border-right-color: var(--fill-color);\n",
              "      border-bottom-color: var(--fill-color);\n",
              "    }\n",
              "    90% {\n",
              "      border-color: transparent;\n",
              "      border-bottom-color: var(--fill-color);\n",
              "    }\n",
              "  }\n",
              "</style>\n",
              "\n",
              "  <script>\n",
              "    async function quickchart(key) {\n",
              "      const quickchartButtonEl =\n",
              "        document.querySelector('#' + key + ' button');\n",
              "      quickchartButtonEl.disabled = true;  // To prevent multiple clicks.\n",
              "      quickchartButtonEl.classList.add('colab-df-spinner');\n",
              "      try {\n",
              "        const charts = await google.colab.kernel.invokeFunction(\n",
              "            'suggestCharts', [key], {});\n",
              "      } catch (error) {\n",
              "        console.error('Error during call to suggestCharts:', error);\n",
              "      }\n",
              "      quickchartButtonEl.classList.remove('colab-df-spinner');\n",
              "      quickchartButtonEl.classList.add('colab-df-quickchart-complete');\n",
              "    }\n",
              "    (() => {\n",
              "      let quickchartButtonEl =\n",
              "        document.querySelector('#df-029bd29a-8048-4fec-9685-a9ecab04fe6a button');\n",
              "      quickchartButtonEl.style.display =\n",
              "        google.colab.kernel.accessAllowed ? 'block' : 'none';\n",
              "    })();\n",
              "  </script>\n",
              "</div>\n",
              "\n",
              "    </div>\n",
              "  </div>\n"
            ],
            "application/vnd.google.colaboratory.intrinsic+json": {
              "type": "dataframe",
              "variable_name": "lab_df",
              "summary": "{\n  \"name\": \"lab_df\",\n  \"rows\": 10000,\n  \"fields\": [\n    {\n      \"column\": \"y\",\n      \"properties\": {\n        \"dtype\": \"number\",\n        \"std\": 2,\n        \"min\": 0,\n        \"max\": 9,\n        \"num_unique_values\": 10,\n        \"samples\": [\n          3,\n          2,\n          9\n        ],\n        \"semantic_type\": \"\",\n        \"description\": \"\"\n      }\n    },\n    {\n      \"column\": \"yhat\",\n      \"properties\": {\n        \"dtype\": \"number\",\n        \"std\": 2,\n        \"min\": 0,\n        \"max\": 9,\n        \"num_unique_values\": 10,\n        \"samples\": [\n          3,\n          2,\n          9\n        ],\n        \"semantic_type\": \"\",\n        \"description\": \"\"\n      }\n    }\n  ]\n}"
            }
          },
          "metadata": {},
          "execution_count": 62
        }
      ]
    },
    {
      "cell_type": "markdown",
      "source": [
        "### Visualization"
      ],
      "metadata": {
        "id": "6olj-e5HtJ3W"
      }
    },
    {
      "cell_type": "code",
      "source": [
        "def plot_preds(\n",
        "    model: torch.nn.Module,\n",
        "    loader: torch.utils.data.DataLoader,\n",
        "    num_images: int=9\n",
        ") -> None:\n",
        "  \"\"\"Visualize images.\"\"\"\n",
        "  images, labels = next(iter(loader))\n",
        "  batch_size = images.size(0)\n",
        "\n",
        "  # Select images.\n",
        "  which_imgs = np.random.choice(batch_size, num_images, replace=False)\n",
        "  imgs = images[which_imgs, :]\n",
        "  labs = labels[which_imgs]\n",
        "\n",
        "  # Generate model predictions.\n",
        "  logits = model(imgs)\n",
        "  yhat = logits.argmax(dim=1)\n",
        "\n",
        "  # Create plot.\n",
        "  n = math.floor(math.sqrt(num_images))\n",
        "  fig, axes = plt.subplots(n, n, figsize=(6, 6))\n",
        "  for i, ax in enumerate(axes.flat):\n",
        "    img = imgs[i].numpy().transpose((1, 2, 0)).squeeze()\n",
        "    ax.imshow(img, cmap='gray')\n",
        "    ax.set_title(f\"Label: {labs[i].item()}, Pred: {yhat[i].item()}\")\n",
        "    ax.axis('off')\n",
        "\n",
        "  # Display plot.\n",
        "  plt.tight_layout()\n",
        "  plt.show()\n",
        "\n",
        "  return None"
      ],
      "metadata": {
        "id": "1U0gSXXgtJG6"
      },
      "execution_count": 79,
      "outputs": []
    },
    {
      "cell_type": "code",
      "source": [
        "plot_preds(model, test_loader)"
      ],
      "metadata": {
        "colab": {
          "base_uri": "https://localhost:8080/",
          "height": 607
        },
        "id": "T2GbfdBkt6e2",
        "outputId": "61ce2c2e-90ce-4595-ef94-c86afc19a2c5"
      },
      "execution_count": 80,
      "outputs": [
        {
          "output_type": "display_data",
          "data": {
            "text/plain": [
              "<Figure size 600x600 with 9 Axes>"
            ],
            "image/png": "[encoded data removed]"
          },
          "metadata": {}
        }
      ]
    },
    {
      "cell_type": "code",
      "source": [],
      "metadata": {
        "id": "3NWSt9nAuXVT"
      },
      "execution_count": null,
      "outputs": []
    }
  ]
}