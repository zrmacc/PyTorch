{
  "nbformat": 4,
  "nbformat_minor": 0,
  "metadata": {
    "colab": {
      "provenance": []
    },
    "kernelspec": {
      "name": "python3",
      "display_name": "Python 3"
    },
    "language_info": {
      "name": "python"
    }
  },
  "cells": [
    {
      "cell_type": "code",
      "execution_count": null,
      "metadata": {
        "id": "koY-5PXxumbT"
      },
      "outputs": [],
      "source": [
        "import math\n",
        "import matplotlib.pyplot as plt\n",
        "import numpy as np\n",
        "\n",
        "import torch\n",
        "from torchvision import datasets, transforms"
      ]
    },
    {
      "cell_type": "markdown",
      "source": [
        "* `torch.nn` [documentation](https://pytorch.org/docs/stable/nn.html).\n",
        "* `torchvision` [documentation](https://pytorch.org/vision/stable/index.html)."
      ],
      "metadata": {
        "id": "_diBLoiWu8QT"
      }
    },
    {
      "cell_type": "markdown",
      "source": [
        "## Load MNIST data"
      ],
      "metadata": {
        "id": "pk3guqW0w8F2"
      }
    },
    {
      "cell_type": "code",
      "source": [
        "def plot_images(\n",
        "    images: torch.Tensor,\n",
        "    labels: torch.Tensor,\n",
        "    num_images: int=9,\n",
        ") -> None:\n",
        "  \"\"\"Visualize images.\"\"\"\n",
        "  batch_size = images.size(0)\n",
        "\n",
        "  # Select images.\n",
        "  which_imgs = np.random.choice(batch_size, num_images, replace=False)\n",
        "  imgs = images[which_imgs, :]\n",
        "  labs = labels[which_imgs]\n",
        "\n",
        "  # Create plot.\n",
        "  n = math.floor(math.sqrt(num_images))\n",
        "  fig, axes = plt.subplots(n, n, figsize=(6, 6))\n",
        "  for i, ax in enumerate(axes.flat):\n",
        "    img = imgs[i].numpy().transpose((1, 2, 0)).squeeze()\n",
        "    ax.imshow(img, cmap='gray')\n",
        "    ax.set_title(f\"Label: {labs[i].item()}\")\n",
        "    ax.axis('off')\n",
        "\n",
        "  # Display plot.\n",
        "  plt.tight_layout()\n",
        "  plt.show()\n",
        "\n",
        "  return None"
      ],
      "metadata": {
        "id": "JvDC4wCqyKQc"
      },
      "execution_count": null,
      "outputs": []
    },
    {
      "cell_type": "code",
      "source": [
        "transform = transforms.Compose([\n",
        "    transforms.ToTensor(),\n",
        "    transforms.Normalize((0.1307,), (0.3081,))\n",
        "])\n",
        "\n",
        "train = datasets.MNIST(root='./data', train=True, download=True, transform=transform)\n",
        "test = datasets.MNIST(root='./data', train=False, download=True, transform=transform)\n",
        "\n",
        "# Define data loaders.\n",
        "train_loader = torch.utils.data.DataLoader(dataset=train, batch_size=64, shuffle=True)\n",
        "test_loader = torch.utils.data.DataLoader(dataset=test, batch_size=1000, shuffle=False)"
      ],
      "metadata": {
        "id": "BpHdLMFmu2Jl"
      },
      "execution_count": null,
      "outputs": []
    },
    {
      "cell_type": "code",
      "source": [
        "# Inspect a batch.\n",
        "images, labels = next(iter(train_loader))\n",
        "plot_images(images, labels)"
      ],
      "metadata": {
        "colab": {
          "base_uri": "https://localhost:8080/",
          "height": 607
        },
        "id": "ktHH-GVjw95C",
        "outputId": "25929409-7c52-4b8d-ddd3-99fe95539c64"
      },
      "execution_count": null,
      "outputs": [
        {
          "output_type": "display_data",
          "data": {
            "text/plain": [
              "<Figure size 600x600 with 9 Axes>"
            ],
            "image/png": "[encoded data removed]"
          },
          "metadata": {}
        }
      ]
    },
    {
      "cell_type": "markdown",
      "source": [
        "## Basic model"
      ],
      "metadata": {
        "id": "Zw6kzD_Y5j2x"
      }
    },
    {
      "cell_type": "code",
      "source": [
        "class SoftmaxRegression(torch.nn.Module):\n",
        "  \"\"\"Softmax regression.\n",
        "\n",
        "  Note the output for the forward pass is on logit scale.\n",
        "\n",
        "  \"\"\"\n",
        "\n",
        "  def __init__(self, input_size: int=28*28, n_classes: int=10):\n",
        "    super().__init__()\n",
        "    self.linear = torch.nn.Linear(input_size, n_classes)\n",
        "\n",
        "  def forward(self, x):\n",
        "    out = self.linear(x)\n",
        "    return out"
      ],
      "metadata": {
        "id": "PuX9ZNEdzq2-"
      },
      "execution_count": null,
      "outputs": []
    },
    {
      "cell_type": "code",
      "source": [
        "def fit_model(\n",
        "    loader,\n",
        "    lr: float=0.001,\n",
        "    epochs: int=10,\n",
        "):\n",
        "\n",
        "  model = SoftmaxRegression()\n",
        "  loss_fn = torch.nn.CrossEntropyLoss()\n",
        "  optimizer = torch.optim.Adam(model.parameters(), lr=lr)\n",
        "\n",
        "  for epoch in range(epochs):\n",
        "      for batch_idx, (images, labels) in enumerate(loader):\n",
        "\n",
        "          # Forward pass.\n",
        "          flat_images = images.view(-1, 28*28)\n",
        "          logits = model(flat_images)\n",
        "          loss = loss_fn(logits, labels)\n",
        "\n",
        "          # Updated weights.\n",
        "          optimizer.zero_grad()\n",
        "          loss.backward()\n",
        "          optimizer.step()\n",
        "\n",
        "      print(f\"Epoch [{epoch + 1}/{epochs}], Loss: {loss.item():.4f}\")\n",
        "\n",
        "  return model"
      ],
      "metadata": {
        "id": "NP_-iVyW75aW"
      },
      "execution_count": null,
      "outputs": []
    },
    {
      "cell_type": "code",
      "source": [
        "model = fit_model(train_loader)"
      ],
      "metadata": {
        "colab": {
          "base_uri": "https://localhost:8080/"
        },
        "id": "zqcraeen9ki7",
        "outputId": "1ca55347-5528-40ed-e323-d9e65bbdd372"
      },
      "execution_count": 49,
      "outputs": [
        {
          "output_type": "stream",
          "name": "stdout",
          "text": [
            "Epoch [1/10], Loss: 0.2107\n",
            "Epoch [2/10], Loss: 0.2681\n",
            "Epoch [3/10], Loss: 0.2178\n",
            "Epoch [4/10], Loss: 0.6597\n",
            "Epoch [5/10], Loss: 0.2210\n",
            "Epoch [6/10], Loss: 0.3637\n",
            "Epoch [7/10], Loss: 0.4502\n",
            "Epoch [8/10], Loss: 0.4102\n",
            "Epoch [9/10], Loss: 0.3283\n",
            "Epoch [10/10], Loss: 0.1526\n"
          ]
        }
      ]
    },
    {
      "cell_type": "code",
      "source": [],
      "metadata": {
        "id": "BYX5IXmc9tNI"
      },
      "execution_count": null,
      "outputs": []
    }
  ]
}